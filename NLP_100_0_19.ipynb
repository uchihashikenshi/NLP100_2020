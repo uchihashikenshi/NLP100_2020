{
 "cells": [
  {
   "cell_type": "markdown",
   "metadata": {
    "colab_type": "text",
    "id": "zQejptsAaQyu"
   },
   "source": [
    "**00. 文字列の逆順**\n",
    "\n",
    "文字列”stressed”の文字を逆に（末尾から先頭に向かって）並べた文字列を得よ．"
   ]
  },
  {
   "cell_type": "code",
   "execution_count": 1,
   "metadata": {
    "colab": {
     "base_uri": "https://localhost:8080/",
     "height": 35
    },
    "colab_type": "code",
    "id": "T1rxk22EZIhd",
    "outputId": "13713c0a-439d-41dd-b14a-b3c349467323"
   },
   "outputs": [
    {
     "data": {
      "text/plain": [
       "'desserts'"
      ]
     },
     "execution_count": 1,
     "metadata": {},
     "output_type": "execute_result"
    }
   ],
   "source": [
    "a = \"stressed\"\n",
    "a[::-1]"
   ]
  },
  {
   "cell_type": "markdown",
   "metadata": {
    "colab_type": "text",
    "id": "8dEEWhZ4aZHA"
   },
   "source": [
    "**01. 「パタトクカシーー」**\n",
    "\n",
    "「パタトクカシーー」という文字列の1,3,5,7文字目を取り出して連結した文字列を得よ．"
   ]
  },
  {
   "cell_type": "code",
   "execution_count": 2,
   "metadata": {
    "colab": {
     "base_uri": "https://localhost:8080/",
     "height": 35
    },
    "colab_type": "code",
    "id": "VvdQNV9nZ4oH",
    "outputId": "b2603ffb-0316-462b-a855-e1c4e93a0dc4"
   },
   "outputs": [
    {
     "data": {
      "text/plain": [
       "'パトカー'"
      ]
     },
     "execution_count": 2,
     "metadata": {},
     "output_type": "execute_result"
    }
   ],
   "source": [
    "s = \"パタトクカシーー\"\n",
    "s[0::2]"
   ]
  },
  {
   "cell_type": "markdown",
   "metadata": {
    "colab_type": "text",
    "id": "TefYSAZma4FH"
   },
   "source": [
    "**02. 「パトカー」＋「タクシー」＝「パタトクカシーー」**\n",
    "\n",
    "「パトカー」＋「タクシー」の文字を先頭から交互に連結して文字列「パタトクカシーー」を得よ．"
   ]
  },
  {
   "cell_type": "code",
   "execution_count": 3,
   "metadata": {
    "colab": {
     "base_uri": "https://localhost:8080/",
     "height": 35
    },
    "colab_type": "code",
    "id": "3dM8LlglasCn",
    "outputId": "addfa487-fd0c-4a82-faf9-bcf38cd22108"
   },
   "outputs": [
    {
     "data": {
      "text/plain": [
       "'パタトクカシーー'"
      ]
     },
     "execution_count": 3,
     "metadata": {},
     "output_type": "execute_result"
    }
   ],
   "source": [
    "''.join([a+b for a, b in zip(\"パトカー\", \"タクシー\")])"
   ]
  },
  {
   "cell_type": "markdown",
   "metadata": {
    "colab_type": "text",
    "id": "aKyWhUQ6bdjB"
   },
   "source": [
    "**03. 円周率**\n",
    "\n",
    "“Now I need a drink, alcoholic of course, after the heavy lectures involving quantum mechanics.”という文を単語に分解し，各単語の（アルファベットの）文字数を先頭から出現順に並べたリストを作成せよ．"
   ]
  },
  {
   "cell_type": "code",
   "execution_count": 4,
   "metadata": {
    "colab": {
     "base_uri": "https://localhost:8080/",
     "height": 34
    },
    "colab_type": "code",
    "id": "p6D3VgOObKV5",
    "outputId": "ca28161d-981e-447b-964a-1f2495a0aa8f"
   },
   "outputs": [
    {
     "data": {
      "text/plain": [
       "[3, 1, 4, 1, 5, 9, 2, 6, 5, 3, 5, 8, 9, 7, 9]"
      ]
     },
     "execution_count": 4,
     "metadata": {},
     "output_type": "execute_result"
    }
   ],
   "source": [
    "s = \"Now I need a drink, alcoholic of course, after the heavy lectures involving quantum mechanics.\"\n",
    "s = s.replace(',', '').replace('.', '')\n",
    "[len(w) for w in s.split()]"
   ]
  },
  {
   "cell_type": "markdown",
   "metadata": {
    "colab_type": "text",
    "id": "i4Y4pA4mcXix"
   },
   "source": [
    "**04. 元素記号**\n",
    "\n",
    "“Hi He Lied Because Boron Could Not Oxidize Fluorine. New Nations Might Also Sign Peace Security Clause. Arthur King Can.”という文を単語に分解し，1, 5, 6, 7, 8, 9, 15, 16, 19番目の単語は先頭の1文字，それ以外の単語は先頭の2文字を取り出し，取り出した文字列から単語の位置（先頭から何番目の単語か）への連想配列（辞書型もしくはマップ型）を作成せよ．"
   ]
  },
  {
   "cell_type": "code",
   "execution_count": 5,
   "metadata": {
    "colab": {
     "base_uri": "https://localhost:8080/",
     "height": 357
    },
    "colab_type": "code",
    "id": "pArKkSgSblPv",
    "outputId": "e52a876a-62ac-4426-f9ab-e4cdf79f9439"
   },
   "outputs": [
    {
     "data": {
      "text/plain": [
       "{'H': 1,\n",
       " 'He': 2,\n",
       " 'Li': 3,\n",
       " 'Be': 4,\n",
       " 'B': 5,\n",
       " 'C': 6,\n",
       " 'N': 7,\n",
       " 'O': 8,\n",
       " 'F': 9,\n",
       " 'Ne': 10,\n",
       " 'Na': 11,\n",
       " 'Mi': 12,\n",
       " 'Al': 13,\n",
       " 'Si': 14,\n",
       " 'P': 15,\n",
       " 'S': 16,\n",
       " 'Cl': 17,\n",
       " 'Ar': 18,\n",
       " 'K': 19,\n",
       " 'Ca': 20}"
      ]
     },
     "execution_count": 5,
     "metadata": {},
     "output_type": "execute_result"
    }
   ],
   "source": [
    "s = \"Hi He Lied Because Boron Could Not Oxidize Fluorine. New Nations Might Also Sign Peace Security Clause. Arthur King Can.\"\n",
    "d = {}\n",
    "map = [1, 5, 6, 7, 8, 9, 15, 16, 19]\n",
    "s = s.replace('.', '').split()\n",
    "for i, w in enumerate(s):\n",
    "    if i+1 in map:\n",
    "        d[w[:1]] = i+1\n",
    "    else:\n",
    "        d[w[:2]] = i+1\n",
    "d"
   ]
  },
  {
   "cell_type": "markdown",
   "metadata": {
    "colab_type": "text",
    "id": "z7Kl9Ehn__uZ"
   },
   "source": [
    "**05. n-gram**\n",
    "\n",
    "与えられたシーケンス（文字列やリストなど）からn-gramを作る関数を作成せよ．この関数を用い，”I am an NLPer”という文から単語bi-gram，文字bi-gramを得よ．"
   ]
  },
  {
   "cell_type": "code",
   "execution_count": 6,
   "metadata": {
    "colab": {
     "base_uri": "https://localhost:8080/",
     "height": 34
    },
    "colab_type": "code",
    "id": "qGsFym3Lcl0A",
    "outputId": "58358da5-2d0f-4d1e-9ca8-9a682a0792f5"
   },
   "outputs": [
    {
     "data": {
      "text/plain": [
       "[['I', 'am'], ['am', 'an'], ['an', 'NLPer']]"
      ]
     },
     "execution_count": 6,
     "metadata": {},
     "output_type": "execute_result"
    }
   ],
   "source": [
    "def ngram(s, n):\n",
    "    ngram = []\n",
    "    for i in range(len(s) - n + 1):\n",
    "        ngram.append(s[i:i+n])\n",
    "    return ngram\n",
    "\n",
    "ngram(\"I am an NLPer\".split(), 2)"
   ]
  },
  {
   "cell_type": "code",
   "execution_count": 7,
   "metadata": {
    "colab": {
     "base_uri": "https://localhost:8080/",
     "height": 34
    },
    "colab_type": "code",
    "id": "Hl52vgEDc7hp",
    "outputId": "f5eed730-3ce7-497e-9f30-77a5e17f0104"
   },
   "outputs": [
    {
     "data": {
      "text/plain": [
       "['I ', ' a', 'am', 'm ', ' a', 'an', 'n ', ' N', 'NL', 'LP', 'Pe', 'er']"
      ]
     },
     "execution_count": 7,
     "metadata": {},
     "output_type": "execute_result"
    }
   ],
   "source": [
    "ngram(\"I am an NLPer\", 2)"
   ]
  },
  {
   "cell_type": "markdown",
   "metadata": {
    "colab_type": "text",
    "id": "-6Lyt9BRDYHR"
   },
   "source": [
    "**06. 集合**\n",
    "\n",
    "“paraparaparadise”と”paragraph”に含まれる文字bi-gramの集合を，それぞれ, XとYとして求め，XとYの和集合，積集合，差集合を求めよ．さらに，’se’というbi-gramがXおよびYに含まれるかどうかを調べよ．"
   ]
  },
  {
   "cell_type": "code",
   "execution_count": 8,
   "metadata": {
    "colab": {
     "base_uri": "https://localhost:8080/",
     "height": 153
    },
    "colab_type": "code",
    "id": "JHDUhvn8BLb-",
    "outputId": "85440926-35b5-4d49-880c-05407fe98c83"
   },
   "outputs": [
    {
     "name": "stdout",
     "output_type": "stream",
     "text": [
      "{'ra', 'di', 'ar', 'ap', 'ad', 'is', 'pa', 'se'}\n",
      "{'ra', 'ph', 'ar', 'ag', 'ap', 'pa', 'gr'}\n",
      "{'ra', 'ph', 'di', 'ar', 'ap', 'ad', 'ag', 'is', 'pa', 'gr', 'se'}\n",
      "{'pa', 'ra', 'ar', 'ap'}\n",
      "{'is', 'di', 'se', 'ad'}\n",
      "{'ph', 'gr', 'ag'}\n",
      "True\n",
      "False\n"
     ]
    }
   ],
   "source": [
    "X = set(ngram(\"paraparaparadise\", 2))\n",
    "Y = set(ngram(\"paragraph\", 2))\n",
    "\n",
    "print(X)\n",
    "print(Y)\n",
    "print(X | Y)\n",
    "print(X & Y)\n",
    "print(X - Y)\n",
    "print(Y - X)\n",
    "print(\"se\" in X)\n",
    "print(\"se\" in Y)"
   ]
  },
  {
   "cell_type": "markdown",
   "metadata": {
    "colab_type": "text",
    "id": "MQ5yl6mwFSkO"
   },
   "source": [
    "**07. テンプレートによる文生成**\n",
    "\n",
    "引数x, y, zを受け取り「x時のyはz」という文字列を返す関数を実装せよ．さらに，x=12, y=”気温”, z=22.4として，実行結果を確認せよ．"
   ]
  },
  {
   "cell_type": "code",
   "execution_count": 9,
   "metadata": {
    "colab": {
     "base_uri": "https://localhost:8080/",
     "height": 35
    },
    "colab_type": "code",
    "id": "s9dEeOyqDrUP",
    "outputId": "7fa5e590-6025-49ca-9909-ba8bb39be0cc"
   },
   "outputs": [
    {
     "data": {
      "text/plain": [
       "'12時の気温は22.4'"
      ]
     },
     "execution_count": 9,
     "metadata": {},
     "output_type": "execute_result"
    }
   ],
   "source": [
    "def sentence(x, y, z):\n",
    "    return str(x) + '時の' + str(y) +  'は' + str(z)\n",
    "\n",
    "sentence(12, \"気温\", 22.4)"
   ]
  },
  {
   "cell_type": "markdown",
   "metadata": {
    "colab_type": "text",
    "id": "qFDSSv4eGAD5"
   },
   "source": [
    "**08. 暗号文**\n",
    "\n",
    "与えられた文字列の各文字を，以下の仕様で変換する関数cipherを実装せよ．\n",
    "\n",
    "英小文字ならば(219 - 文字コード)の文字に置換\n",
    "その他の文字はそのまま出力\n",
    "この関数を用い，英語のメッセージを暗号化・復号化せよ．"
   ]
  },
  {
   "cell_type": "code",
   "execution_count": 10,
   "metadata": {
    "colab": {
     "base_uri": "https://localhost:8080/",
     "height": 35
    },
    "colab_type": "code",
    "id": "M76r09MoF3gG",
    "outputId": "4116acba-6c88-488a-cee7-284655d31488"
   },
   "outputs": [
    {
     "data": {
      "text/plain": [
       "\"'I zn zm NLPvi'\""
      ]
     },
     "execution_count": 10,
     "metadata": {},
     "output_type": "execute_result"
    }
   ],
   "source": [
    "def cipher(s):\n",
    "    r = []\n",
    "    for _ in s:\n",
    "        if 97 <= ord(_) <= 122:\n",
    "            r.append(chr(219 - ord(_)))\n",
    "        else:\n",
    "            r.append(_)\n",
    "    return ''.join(r)\n",
    "\n",
    "cipher(\"'I am an NLPer'\")"
   ]
  },
  {
   "cell_type": "code",
   "execution_count": 11,
   "metadata": {
    "colab": {
     "base_uri": "https://localhost:8080/",
     "height": 35
    },
    "colab_type": "code",
    "id": "5Pl90ySRGruI",
    "outputId": "91c2f206-e01b-40e2-95f1-6fd37ae35fb7"
   },
   "outputs": [
    {
     "data": {
      "text/plain": [
       "'I am an NLPer'"
      ]
     },
     "execution_count": 11,
     "metadata": {},
     "output_type": "execute_result"
    }
   ],
   "source": [
    "cipher('I zn zm NLPvi')"
   ]
  },
  {
   "cell_type": "markdown",
   "metadata": {
    "colab_type": "text",
    "id": "IN-6lQsMHCzU"
   },
   "source": [
    "**09. Typoglycemia**\n",
    "\n",
    "スペースで区切られた単語列に対して，各単語の先頭と末尾の文字は残し，それ以外の文字の順序をランダムに並び替えるプログラムを作成せよ．ただし，長さが４以下の単語は並び替えないこととする．適当な英語の文（例えば”I couldn’t believe that I could actually understand what I was reading : the phenomenal power of the human mind .”）を与え，その実行結果を確認せよ．"
   ]
  },
  {
   "cell_type": "code",
   "execution_count": 12,
   "metadata": {
    "colab": {
     "base_uri": "https://localhost:8080/",
     "height": 35
    },
    "colab_type": "code",
    "id": "vDFLxDJEG_AV",
    "outputId": "843586fb-7793-435a-f046-34f04399edf4"
   },
   "outputs": [
    {
     "data": {
      "text/plain": [
       "'I cun’dlot bevleie that I cluod autclaly udeantsnrd what I was rnediag : the pehmanoenl peowr of the hamun mind .'"
      ]
     },
     "execution_count": 12,
     "metadata": {},
     "output_type": "execute_result"
    }
   ],
   "source": [
    "import random\n",
    "s = \"I couldn’t believe that I could actually understand what I was reading : the phenomenal power of the human mind .\"\n",
    "r = []\n",
    "for _ in s.split():\n",
    "    if len(_) > 4:\n",
    "        inter = list(_[1:-1])\n",
    "        random.shuffle(inter)\n",
    "        r.append(_[0] + ''.join(inter) + _[-1])\n",
    "    else:\n",
    "        r.append(_)\n",
    "' '.join(r)"
   ]
  },
  {
   "cell_type": "markdown",
   "metadata": {
    "colab_type": "text",
    "id": "h8Ckj_F2zkju"
   },
   "source": [
    "**10. 行数のカウント**\n",
    "\n",
    "行数をカウントせよ．確認にはwcコマンドを用いよ．"
   ]
  },
  {
   "cell_type": "code",
   "execution_count": 64,
   "metadata": {
    "colab": {
     "base_uri": "https://localhost:8080/",
     "height": 204
    },
    "colab_type": "code",
    "id": "dXj8rJOPJwQH",
    "outputId": "993170f1-05aa-43f2-8492-8233180e4e6f"
   },
   "outputs": [
    {
     "name": "stdout",
     "output_type": "stream",
     "text": [
      "  % Total    % Received % Xferd  Average Speed   Time    Time     Time  Current\n",
      "                                 Dload  Upload   Total   Spent    Left  Speed\n",
      "100 55026  100 55026    0     0   238k      0 --:--:-- --:--:-- --:--:--  238k\n"
     ]
    }
   ],
   "source": [
    "!curl -o ./data/nlp_100_0_19/popular-names.txt --create-dirs https://nlp100.github.io/data/popular-names.txt"
   ]
  },
  {
   "cell_type": "code",
   "execution_count": 65,
   "metadata": {
    "colab": {
     "base_uri": "https://localhost:8080/",
     "height": 34
    },
    "colab_type": "code",
    "id": "Ru_SpfcbOPqc",
    "outputId": "3aa2bd69-b277-43ce-e6c1-bc8f8c8a329e"
   },
   "outputs": [
    {
     "name": "stdout",
     "output_type": "stream",
     "text": [
      "    2780   11120   55026 popular-names.txt\r\n"
     ]
    }
   ],
   "source": [
    "!wc popular-names.txt"
   ]
  },
  {
   "cell_type": "code",
   "execution_count": 79,
   "metadata": {
    "colab": {
     "base_uri": "https://localhost:8080/",
     "height": 34
    },
    "colab_type": "code",
    "id": "7qXTuMGZOhPj",
    "outputId": "7aa523eb-56f3-407a-9786-12bf0d43dd1e"
   },
   "outputs": [
    {
     "data": {
      "text/plain": [
       "2780"
      ]
     },
     "execution_count": 79,
     "metadata": {},
     "output_type": "execute_result"
    }
   ],
   "source": [
    "import pandas as pd\n",
    "s = pd.read_csv(\"./data/nlp_100_0_19/popular-names.txt\", delimiter='\\t', header=None)\n",
    "len(s)"
   ]
  },
  {
   "cell_type": "markdown",
   "metadata": {
    "colab_type": "text",
    "id": "TZMAyNtj0ij8"
   },
   "source": [
    "**11. タブをスペースに置換**\n",
    "\n",
    "タブ1文字につきスペース1文字に置換せよ．確認にはsedコマンド，trコマンド，もしくはexpandコマンドを用いよ．"
   ]
  },
  {
   "cell_type": "code",
   "execution_count": 80,
   "metadata": {
    "colab": {},
    "colab_type": "code",
    "id": "BQqRLk2k1bG2"
   },
   "outputs": [],
   "source": [
    "!sed 's/\\t/ /g' ./data/nlp_100_0_19/popular-names.txt > ./data/nlp_100_0_19/tab_replaced.txt"
   ]
  },
  {
   "cell_type": "code",
   "execution_count": 81,
   "metadata": {
    "colab": {
     "base_uri": "https://localhost:8080/",
     "height": 51
    },
    "colab_type": "code",
    "id": "LZ30_-L61-xE",
    "outputId": "a003cb34-8e0d-4fff-b023-d97f96fe87dc"
   },
   "outputs": [
    {
     "name": "stdout",
     "output_type": "stream",
     "text": [
      "Mary\tF\t7065\t1880\r\n",
      "Anna\tF\t2604\t1880\r\n"
     ]
    }
   ],
   "source": [
    "!head -n 2 ./data/nlp_100_0_19/popular-names.txt"
   ]
  },
  {
   "cell_type": "code",
   "execution_count": 82,
   "metadata": {
    "colab": {
     "base_uri": "https://localhost:8080/",
     "height": 51
    },
    "colab_type": "code",
    "id": "vfelzzjb1_GJ",
    "outputId": "aa961207-21ef-44c7-a33c-db7196692bfe"
   },
   "outputs": [
    {
     "name": "stdout",
     "output_type": "stream",
     "text": [
      "Mary\tF\t7065\t1880\r\n",
      "Anna\tF\t2604\t1880\r\n"
     ]
    }
   ],
   "source": [
    "!head -n 2 ./data/nlp_100_0_19/tab_replaced.txt"
   ]
  },
  {
   "cell_type": "code",
   "execution_count": 83,
   "metadata": {
    "colab": {},
    "colab_type": "code",
    "id": "EIUGlWL-2PMP"
   },
   "outputs": [],
   "source": [
    "s.to_csv(\"./data/nlp_100_0_19/tab_replaced_pd.txt\", sep=\" \", header=None, index=None)"
   ]
  },
  {
   "cell_type": "code",
   "execution_count": 84,
   "metadata": {
    "colab": {
     "base_uri": "https://localhost:8080/",
     "height": 51
    },
    "colab_type": "code",
    "id": "AqKHGUVn3K6Q",
    "outputId": "b5955d7d-e4e8-48d0-bede-1f795cd9a278"
   },
   "outputs": [
    {
     "name": "stdout",
     "output_type": "stream",
     "text": [
      "Mary F 7065 1880\r\n",
      "Anna F 2604 1880\r\n"
     ]
    }
   ],
   "source": [
    "!head -n 2 ./data/nlp_100_0_19/tab_replaced_pd.txt"
   ]
  },
  {
   "cell_type": "markdown",
   "metadata": {
    "colab_type": "text",
    "id": "mAdAkm7E0jaw"
   },
   "source": [
    "**12. 1列目をcol1.txtに，2列目をcol2.txtに保存**\n",
    "\n",
    "各行の1列目だけを抜き出したものをcol1.txtに，2列目だけを抜き出したものをcol2.txtとしてファイルに保存せよ．確認にはcutコマンドを用いよ．"
   ]
  },
  {
   "cell_type": "code",
   "execution_count": 85,
   "metadata": {
    "colab": {},
    "colab_type": "code",
    "id": "MzmMojAA3S30"
   },
   "outputs": [],
   "source": [
    "!cut -f 1 ./data/nlp_100_0_19/popular-names.txt > ./data/nlp_100_0_19/col1.txt\n",
    "!cut -f 2 ./data/nlp_100_0_19/popular-names.txt > ./data/nlp_100_0_19/col2.txt"
   ]
  },
  {
   "cell_type": "code",
   "execution_count": 86,
   "metadata": {
    "colab": {
     "base_uri": "https://localhost:8080/",
     "height": 85
    },
    "colab_type": "code",
    "id": "Foppameu3SdE",
    "outputId": "4cfa75b1-0e06-402b-dbc6-62ef6975a127"
   },
   "outputs": [
    {
     "name": "stdout",
     "output_type": "stream",
     "text": [
      "Mary\n",
      "Anna\n",
      "F\n",
      "F\n"
     ]
    }
   ],
   "source": [
    "!head -n 2 ./data/nlp_100_0_19/col1.txt\n",
    "!head -n 2 ./data/nlp_100_0_19/col2.txt"
   ]
  },
  {
   "cell_type": "code",
   "execution_count": 87,
   "metadata": {
    "colab": {
     "base_uri": "https://localhost:8080/",
     "height": 51
    },
    "colab_type": "code",
    "id": "ReNzJyFk3-dY",
    "outputId": "6798ffdd-c78e-490d-bace-d920ba5da2e4"
   },
   "outputs": [
    {
     "name": "stdout",
     "output_type": "stream",
     "text": [
      "Mary\tF\t7065\t1880\r\n",
      "Anna\tF\t2604\t1880\r\n"
     ]
    }
   ],
   "source": [
    "!cut -f 1 -d \" \" ./data/nlp_100_0_19/tab_replaced.txt | head -n 2"
   ]
  },
  {
   "cell_type": "code",
   "execution_count": 89,
   "metadata": {
    "colab": {},
    "colab_type": "code",
    "id": "ZMisuS9v6gqB"
   },
   "outputs": [
    {
     "name": "stderr",
     "output_type": "stream",
     "text": [
      "/Users/uchi_k/.pyenv/versions/anaconda3-5.3.1/lib/python3.7/site-packages/ipykernel_launcher.py:3: FutureWarning: The signature of `Series.to_csv` was aligned to that of `DataFrame.to_csv`, and argument 'header' will change its default value from False to True: please pass an explicit value to suppress this warning.\n",
      "  This is separate from the ipykernel package so we can avoid doing imports until\n",
      "/Users/uchi_k/.pyenv/versions/anaconda3-5.3.1/lib/python3.7/site-packages/ipykernel_launcher.py:4: FutureWarning: The signature of `Series.to_csv` was aligned to that of `DataFrame.to_csv`, and argument 'header' will change its default value from False to True: please pass an explicit value to suppress this warning.\n",
      "  after removing the cwd from sys.path.\n"
     ]
    }
   ],
   "source": [
    "import pandas as pd\n",
    "df = pd.read_csv(\"./data/nlp_100_0_19/popular-names.txt\", header=None, delimiter=\"\\t\")\n",
    "df.iloc[:, 0].to_csv(\"./data/nlp_100_0_19/col1_pd.txt\", header=None, index=None)\n",
    "df.iloc[:, 1].to_csv(\"./data/nlp_100_0_19/col2_pd.txt\", header=None, index=None)"
   ]
  },
  {
   "cell_type": "code",
   "execution_count": 90,
   "metadata": {
    "colab": {
     "base_uri": "https://localhost:8080/",
     "height": 85
    },
    "colab_type": "code",
    "id": "i165gGHd6FpG",
    "outputId": "03a4b5b7-29f6-4585-9ca4-ab0c7260a3b2"
   },
   "outputs": [
    {
     "name": "stdout",
     "output_type": "stream",
     "text": [
      "Mary\n",
      "Anna\n",
      "F\n",
      "F\n"
     ]
    }
   ],
   "source": [
    "!head -n 2 ./data/nlp_100_0_19/col1_pd.txt\n",
    "!head -n 2 ./data/nlp_100_0_19/col2_pd.txt"
   ]
  },
  {
   "cell_type": "markdown",
   "metadata": {
    "colab_type": "text",
    "id": "PuPQfdIC0jtd"
   },
   "source": [
    "**13. col1.txtとcol2.txtをマージ**\n",
    "\n",
    "12で作ったcol1.txtとcol2.txtを結合し，元のファイルの1列目と2列目をタブ区切りで並べたテキストファイルを作成せよ．確認にはpasteコマンドを用いよ．"
   ]
  },
  {
   "cell_type": "code",
   "execution_count": 91,
   "metadata": {
    "colab": {
     "base_uri": "https://localhost:8080/",
     "height": 51
    },
    "colab_type": "code",
    "id": "Zx-qjNty7iNU",
    "outputId": "f93abff2-b9af-4ba3-9840-b8582e4fa13e"
   },
   "outputs": [
    {
     "name": "stdout",
     "output_type": "stream",
     "text": [
      "Mary\tF\r\n",
      "Anna\tF\r\n"
     ]
    }
   ],
   "source": [
    "!paste ./data/nlp_100_0_19/col1.txt ./data/nlp_100_0_19/col2.txt > ./data/nlp_100_0_19/col1_2.txt\n",
    "!head -n 2 ./data/nlp_100_0_19/col1_2.txt"
   ]
  },
  {
   "cell_type": "code",
   "execution_count": 93,
   "metadata": {
    "colab": {},
    "colab_type": "code",
    "id": "iW04ZJtK7haT"
   },
   "outputs": [],
   "source": [
    "df_col1 = pd.read_csv(\"./data/nlp_100_0_19/col1.txt\", header=None)\n",
    "df_col2 = pd.read_csv(\"./data/nlp_100_0_19/col2.txt\", header=None)\n",
    "pd.concat([df_col1, df_col2], axis=1).to_csv(\"./data/nlp_100_0_19/col1_2_pd.txt\", sep=\"\\t\", header=None, index=None)"
   ]
  },
  {
   "cell_type": "code",
   "execution_count": 94,
   "metadata": {
    "colab": {
     "base_uri": "https://localhost:8080/",
     "height": 51
    },
    "colab_type": "code",
    "id": "5Dw4T7_M7g4d",
    "outputId": "6832fe07-6914-4ded-c6b0-f2191deb1e5f"
   },
   "outputs": [
    {
     "name": "stdout",
     "output_type": "stream",
     "text": [
      "Mary\tF\r\n",
      "Anna\tF\r\n"
     ]
    }
   ],
   "source": [
    "!head -n 2 ./data/nlp_100_0_19/col1_2_pd.txt"
   ]
  },
  {
   "cell_type": "markdown",
   "metadata": {
    "colab_type": "text",
    "id": "LCcUqDnE0kFk"
   },
   "source": [
    "**14. 先頭からN行を出力**\n",
    "\n",
    "自然数Nをコマンドライン引数などの手段で受け取り，入力のうち先頭のN行だけを表示せよ．確認にはheadコマンドを用いよ．"
   ]
  },
  {
   "cell_type": "code",
   "execution_count": 95,
   "metadata": {
    "colab": {
     "base_uri": "https://localhost:8080/",
     "height": 142
    },
    "colab_type": "code",
    "id": "Hhb4cdm1Bf4D",
    "outputId": "0dcf25d4-790b-4b32-a135-be319c03e369"
   },
   "outputs": [
    {
     "data": {
      "text/html": [
       "<div>\n",
       "<style scoped>\n",
       "    .dataframe tbody tr th:only-of-type {\n",
       "        vertical-align: middle;\n",
       "    }\n",
       "\n",
       "    .dataframe tbody tr th {\n",
       "        vertical-align: top;\n",
       "    }\n",
       "\n",
       "    .dataframe thead th {\n",
       "        text-align: right;\n",
       "    }\n",
       "</style>\n",
       "<table border=\"1\" class=\"dataframe\">\n",
       "  <thead>\n",
       "    <tr style=\"text-align: right;\">\n",
       "      <th></th>\n",
       "      <th>0</th>\n",
       "      <th>1</th>\n",
       "      <th>2</th>\n",
       "      <th>3</th>\n",
       "    </tr>\n",
       "  </thead>\n",
       "  <tbody>\n",
       "    <tr>\n",
       "      <th>0</th>\n",
       "      <td>Mary</td>\n",
       "      <td>F</td>\n",
       "      <td>7065</td>\n",
       "      <td>1880</td>\n",
       "    </tr>\n",
       "    <tr>\n",
       "      <th>1</th>\n",
       "      <td>Anna</td>\n",
       "      <td>F</td>\n",
       "      <td>2604</td>\n",
       "      <td>1880</td>\n",
       "    </tr>\n",
       "    <tr>\n",
       "      <th>2</th>\n",
       "      <td>Emma</td>\n",
       "      <td>F</td>\n",
       "      <td>2003</td>\n",
       "      <td>1880</td>\n",
       "    </tr>\n",
       "  </tbody>\n",
       "</table>\n",
       "</div>"
      ],
      "text/plain": [
       "      0  1     2     3\n",
       "0  Mary  F  7065  1880\n",
       "1  Anna  F  2604  1880\n",
       "2  Emma  F  2003  1880"
      ]
     },
     "execution_count": 95,
     "metadata": {},
     "output_type": "execute_result"
    }
   ],
   "source": [
    "df.head(3)"
   ]
  },
  {
   "cell_type": "markdown",
   "metadata": {
    "colab_type": "text",
    "id": "V7EFzAlM0kar"
   },
   "source": [
    "**15. 末尾のN行を出力**\n",
    "\n",
    "自然数Nをコマンドライン引数などの手段で受け取り，入力のうち末尾のN行だけを表示せよ．確認にはtailコマンドを用いよ．"
   ]
  },
  {
   "cell_type": "code",
   "execution_count": 96,
   "metadata": {
    "colab": {
     "base_uri": "https://localhost:8080/",
     "height": 85
    },
    "colab_type": "code",
    "id": "tvdDgxu8B9kN",
    "outputId": "f810247d-71f1-48a7-be2f-a754d255e74a"
   },
   "outputs": [
    {
     "name": "stdout",
     "output_type": "stream",
     "text": [
      "Elijah\tM\t12886\t2018\r\n",
      "Lucas\tM\t12585\t2018\r\n",
      "Mason\tM\t12435\t2018\r\n",
      "Logan\tM\t12352\t2018\r\n"
     ]
    }
   ],
   "source": [
    "!tail -n 4 ./data/nlp_100_0_19/popular-names.txt"
   ]
  },
  {
   "cell_type": "code",
   "execution_count": 97,
   "metadata": {
    "colab": {
     "base_uri": "https://localhost:8080/",
     "height": 173
    },
    "colab_type": "code",
    "id": "z1hhA1IpCCpM",
    "outputId": "665f2441-c8f5-4cec-dfb4-e3fa6aed12a5"
   },
   "outputs": [
    {
     "data": {
      "text/html": [
       "<div>\n",
       "<style scoped>\n",
       "    .dataframe tbody tr th:only-of-type {\n",
       "        vertical-align: middle;\n",
       "    }\n",
       "\n",
       "    .dataframe tbody tr th {\n",
       "        vertical-align: top;\n",
       "    }\n",
       "\n",
       "    .dataframe thead th {\n",
       "        text-align: right;\n",
       "    }\n",
       "</style>\n",
       "<table border=\"1\" class=\"dataframe\">\n",
       "  <thead>\n",
       "    <tr style=\"text-align: right;\">\n",
       "      <th></th>\n",
       "      <th>0</th>\n",
       "      <th>1</th>\n",
       "      <th>2</th>\n",
       "      <th>3</th>\n",
       "    </tr>\n",
       "  </thead>\n",
       "  <tbody>\n",
       "    <tr>\n",
       "      <th>2776</th>\n",
       "      <td>Elijah</td>\n",
       "      <td>M</td>\n",
       "      <td>12886</td>\n",
       "      <td>2018</td>\n",
       "    </tr>\n",
       "    <tr>\n",
       "      <th>2777</th>\n",
       "      <td>Lucas</td>\n",
       "      <td>M</td>\n",
       "      <td>12585</td>\n",
       "      <td>2018</td>\n",
       "    </tr>\n",
       "    <tr>\n",
       "      <th>2778</th>\n",
       "      <td>Mason</td>\n",
       "      <td>M</td>\n",
       "      <td>12435</td>\n",
       "      <td>2018</td>\n",
       "    </tr>\n",
       "    <tr>\n",
       "      <th>2779</th>\n",
       "      <td>Logan</td>\n",
       "      <td>M</td>\n",
       "      <td>12352</td>\n",
       "      <td>2018</td>\n",
       "    </tr>\n",
       "  </tbody>\n",
       "</table>\n",
       "</div>"
      ],
      "text/plain": [
       "           0  1      2     3\n",
       "2776  Elijah  M  12886  2018\n",
       "2777   Lucas  M  12585  2018\n",
       "2778   Mason  M  12435  2018\n",
       "2779   Logan  M  12352  2018"
      ]
     },
     "execution_count": 97,
     "metadata": {},
     "output_type": "execute_result"
    }
   ],
   "source": [
    "df.tail(4)"
   ]
  },
  {
   "cell_type": "markdown",
   "metadata": {
    "colab_type": "text",
    "id": "fkHqOrUN0ks2"
   },
   "source": [
    "**16. ファイルをN分割する**\n",
    "\n",
    "自然数Nをコマンドライン引数などの手段で受け取り，入力のファイルを行単位でN分割せよ．同様の処理をsplitコマンドで実現せよ．"
   ]
  },
  {
   "cell_type": "code",
   "execution_count": 100,
   "metadata": {
    "colab": {},
    "colab_type": "code",
    "id": "CcO0juKdCIG-"
   },
   "outputs": [],
   "source": [
    "!split -l 927 ./data/nlp_100_0_19/popular-names.txt ./data/nlp_100_0_19/split"
   ]
  },
  {
   "cell_type": "code",
   "execution_count": 101,
   "metadata": {
    "colab": {
     "base_uri": "https://localhost:8080/",
     "height": 34
    },
    "colab_type": "code",
    "id": "Uif2E_ElCnUE",
    "outputId": "8bd22357-f645-4dfe-c15e-319ec1cca154"
   },
   "outputs": [
    {
     "name": "stdout",
     "output_type": "stream",
     "text": [
      "     926    3704   18859 ./data/nlp_100_0_19/splitac\r\n"
     ]
    }
   ],
   "source": [
    "!wc ./data/nlp_100_0_19/splitac"
   ]
  },
  {
   "cell_type": "code",
   "execution_count": 102,
   "metadata": {
    "colab": {},
    "colab_type": "code",
    "id": "5nc_jM4uEA_b"
   },
   "outputs": [],
   "source": [
    "N = 3\n",
    "step = -(-len(df)//N)\n",
    "for n in range(N):\n",
    "    new_df = df[n*step:(n+1)*step]\n",
    "    new_df.to_csv(\"\".join([\"./data/nlp_100_0_19/\", \"split\", str(n), \".txt\"]), sep=\"\\t\", header=None, index=None)"
   ]
  },
  {
   "cell_type": "code",
   "execution_count": 103,
   "metadata": {
    "colab": {
     "base_uri": "https://localhost:8080/",
     "height": 68
    },
    "colab_type": "code",
    "id": "NU193NoXGci7",
    "outputId": "4acd99b7-934b-422d-a4fc-61b309c78c9c"
   },
   "outputs": [
    {
     "name": "stdout",
     "output_type": "stream",
     "text": [
      "Mary\tF\t7065\t1880\n",
      "Anna\tF\t2604\t1880\n",
      "     927    3708   17739 ./data/nlp_100_0_19/split0.txt\n"
     ]
    }
   ],
   "source": [
    "!head -n 2 ./data/nlp_100_0_19/split0.txt\n",
    "!wc ./data/nlp_100_0_19/split0.txt"
   ]
  },
  {
   "cell_type": "markdown",
   "metadata": {
    "colab_type": "text",
    "id": "6CiZpJKY0lP8"
   },
   "source": [
    "**17. １列目の文字列の異なり**\n",
    "\n",
    "1列目の文字列の種類（異なる文字列の集合）を求めよ．確認にはcut, sort, uniqコマンドを用いよ．"
   ]
  },
  {
   "cell_type": "code",
   "execution_count": 104,
   "metadata": {
    "colab": {
     "base_uri": "https://localhost:8080/",
     "height": 153
    },
    "colab_type": "code",
    "id": "CKQJFvXZKzYe",
    "outputId": "019140a1-8be3-49f8-94a0-cc6a8d7b697c"
   },
   "outputs": [
    {
     "name": "stdout",
     "output_type": "stream",
     "text": [
      "Abigail\r\n",
      "Aiden\r\n",
      "Alexander\r\n",
      "Alexis\r\n",
      "Alice\r\n",
      "Amanda\r\n",
      "Amelia\r\n",
      "Amy\r\n"
     ]
    }
   ],
   "source": [
    "!cut -f 1 ./data/nlp_100_0_19/popular-names.txt | sort | uniq | head -n 8"
   ]
  },
  {
   "cell_type": "code",
   "execution_count": 105,
   "metadata": {
    "colab": {
     "base_uri": "https://localhost:8080/",
     "height": 51
    },
    "colab_type": "code",
    "id": "qxJV0NF3Kngq",
    "outputId": "da622740-c0d3-49a5-b907-e7d883101c68"
   },
   "outputs": [
    {
     "data": {
      "text/plain": [
       "array(['Abigail', 'Aiden', 'Alexander', 'Alexis', 'Alice', 'Amanda',\n",
       "       'Amelia', 'Amy'], dtype=object)"
      ]
     },
     "execution_count": 105,
     "metadata": {},
     "output_type": "execute_result"
    }
   ],
   "source": [
    "new = df.iloc[:, 0].unique()\n",
    "new.sort()\n",
    "new[:8]"
   ]
  },
  {
   "cell_type": "markdown",
   "metadata": {
    "colab_type": "text",
    "id": "lL-mcRXf0ltR"
   },
   "source": [
    "**18. 各行を3コラム目の数値の降順にソート**\n",
    "\n",
    "各行を3コラム目の数値の逆順で整列せよ（注意: 各行の内容は変更せずに並び替えよ）．確認にはsortコマンドを用いよ（この問題はコマンドで実行した時の結果と合わなくてもよい）．"
   ]
  },
  {
   "cell_type": "code",
   "execution_count": 106,
   "metadata": {
    "colab": {
     "base_uri": "https://localhost:8080/",
     "height": 153
    },
    "colab_type": "code",
    "id": "402nkxDpPsMe",
    "outputId": "5194a0ed-5ce4-4691-8f6c-a00a799ccbfd"
   },
   "outputs": [
    {
     "name": "stdout",
     "output_type": "stream",
     "text": [
      "99689\r\n",
      "96211\r\n",
      "94757\r\n",
      "92704\r\n",
      "91640\r\n",
      "91016\r\n",
      "90656\r\n",
      "90517\r\n"
     ]
    }
   ],
   "source": [
    "!cut -f 3 ./data/nlp_100_0_19/popular-names.txt | sort -n -r | head -n 8"
   ]
  },
  {
   "cell_type": "code",
   "execution_count": 107,
   "metadata": {
    "colab": {
     "base_uri": "https://localhost:8080/",
     "height": 170
    },
    "colab_type": "code",
    "id": "nU0ztWsEPrlR",
    "outputId": "caa7c0d4-40ac-4a5b-bca2-ed294e5c1d2c"
   },
   "outputs": [
    {
     "data": {
      "text/plain": [
       "1340    99689\n",
       "1360    96211\n",
       "1350    94757\n",
       "1550    92704\n",
       "1351    91640\n",
       "1380    91016\n",
       "1530    90656\n",
       "1570    90517\n",
       "Name: 2, dtype: int64"
      ]
     },
     "execution_count": 107,
     "metadata": {},
     "output_type": "execute_result"
    }
   ],
   "source": [
    "df.iloc[:, 2].sort_values(ascending=False).head(8)"
   ]
  },
  {
   "cell_type": "markdown",
   "metadata": {
    "colab_type": "text",
    "id": "1P56nfhU0mXG"
   },
   "source": [
    "**19. 各行の1コラム目の文字列の出現頻度を求め，出現頻度の高い順に並べる**\n",
    "\n",
    "各行の1列目の文字列の出現頻度を求め，その高い順に並べて表示せよ．確認にはcut, uniq, sortコマンドを用いよ．"
   ]
  },
  {
   "cell_type": "code",
   "execution_count": 108,
   "metadata": {
    "colab": {
     "base_uri": "https://localhost:8080/",
     "height": 153
    },
    "colab_type": "code",
    "id": "HWY3nfhCQ81V",
    "outputId": "79f1e1fb-ac9b-4452-efdc-19109ef8b0fd"
   },
   "outputs": [
    {
     "name": "stdout",
     "output_type": "stream",
     "text": [
      " 118 James\r\n",
      " 111 William\r\n",
      " 108 Robert\r\n",
      " 108 John\r\n",
      "  92 Mary\r\n",
      "  75 Charles\r\n",
      "  74 Michael\r\n",
      "  73 Elizabeth\r\n"
     ]
    }
   ],
   "source": [
    "!cut -f 1 ./data/nlp_100_0_19/popular-names.txt | sort | uniq -c | sort -n -r | head -n 8"
   ]
  },
  {
   "cell_type": "code",
   "execution_count": 109,
   "metadata": {
    "colab": {
     "base_uri": "https://localhost:8080/",
     "height": 419
    },
    "colab_type": "code",
    "id": "AFAKGpwDQ8cG",
    "outputId": "674fa137-b546-433a-8d54-01fac8d059f9"
   },
   "outputs": [
    {
     "data": {
      "text/html": [
       "<div>\n",
       "<style scoped>\n",
       "    .dataframe tbody tr th:only-of-type {\n",
       "        vertical-align: middle;\n",
       "    }\n",
       "\n",
       "    .dataframe tbody tr th {\n",
       "        vertical-align: top;\n",
       "    }\n",
       "\n",
       "    .dataframe thead th {\n",
       "        text-align: right;\n",
       "    }\n",
       "</style>\n",
       "<table border=\"1\" class=\"dataframe\">\n",
       "  <thead>\n",
       "    <tr style=\"text-align: right;\">\n",
       "      <th></th>\n",
       "      <th>0</th>\n",
       "    </tr>\n",
       "  </thead>\n",
       "  <tbody>\n",
       "    <tr>\n",
       "      <th>James</th>\n",
       "      <td>118</td>\n",
       "    </tr>\n",
       "    <tr>\n",
       "      <th>William</th>\n",
       "      <td>111</td>\n",
       "    </tr>\n",
       "    <tr>\n",
       "      <th>Robert</th>\n",
       "      <td>108</td>\n",
       "    </tr>\n",
       "    <tr>\n",
       "      <th>John</th>\n",
       "      <td>108</td>\n",
       "    </tr>\n",
       "    <tr>\n",
       "      <th>Mary</th>\n",
       "      <td>92</td>\n",
       "    </tr>\n",
       "    <tr>\n",
       "      <th>...</th>\n",
       "      <td>...</td>\n",
       "    </tr>\n",
       "    <tr>\n",
       "      <th>Carolyn</th>\n",
       "      <td>1</td>\n",
       "    </tr>\n",
       "    <tr>\n",
       "      <th>Crystal</th>\n",
       "      <td>1</td>\n",
       "    </tr>\n",
       "    <tr>\n",
       "      <th>Walter</th>\n",
       "      <td>1</td>\n",
       "    </tr>\n",
       "    <tr>\n",
       "      <th>Rachel</th>\n",
       "      <td>1</td>\n",
       "    </tr>\n",
       "    <tr>\n",
       "      <th>Lori</th>\n",
       "      <td>1</td>\n",
       "    </tr>\n",
       "  </tbody>\n",
       "</table>\n",
       "<p>136 rows × 1 columns</p>\n",
       "</div>"
      ],
      "text/plain": [
       "           0\n",
       "James    118\n",
       "William  111\n",
       "Robert   108\n",
       "John     108\n",
       "Mary      92\n",
       "...      ...\n",
       "Carolyn    1\n",
       "Crystal    1\n",
       "Walter     1\n",
       "Rachel     1\n",
       "Lori       1\n",
       "\n",
       "[136 rows x 1 columns]"
      ]
     },
     "execution_count": 109,
     "metadata": {},
     "output_type": "execute_result"
    }
   ],
   "source": [
    "wc = pd.DataFrame(df.iloc[:, 0].value_counts())\n",
    "wc.sort_values([0], ascending=False)"
   ]
  },
  {
   "cell_type": "code",
   "execution_count": null,
   "metadata": {
    "colab": {},
    "colab_type": "code",
    "id": "RPHmy1Pi0J4Z"
   },
   "outputs": [],
   "source": []
  }
 ],
 "metadata": {
  "colab": {
   "collapsed_sections": [],
   "name": "NLP 100",
   "provenance": []
  },
  "kernelspec": {
   "display_name": "Python 3",
   "language": "python",
   "name": "python3"
  },
  "language_info": {
   "codemirror_mode": {
    "name": "ipython",
    "version": 3
   },
   "file_extension": ".py",
   "mimetype": "text/x-python",
   "name": "python",
   "nbconvert_exporter": "python",
   "pygments_lexer": "ipython3",
   "version": "3.7.2"
  }
 },
 "nbformat": 4,
 "nbformat_minor": 1
}
