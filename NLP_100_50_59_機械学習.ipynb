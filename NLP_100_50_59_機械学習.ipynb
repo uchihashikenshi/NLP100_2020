{
 "cells": [
  {
   "cell_type": "markdown",
   "metadata": {},
   "source": [
    "# 第6章: 機械学習"
   ]
  },
  {
   "cell_type": "markdown",
   "metadata": {},
   "source": [
    "本章では，Fabio Gasparetti氏が公開しているNews Aggregator Data Setを用い，ニュース記事の見出しを「ビジネス」「科学技術」「エンターテイメント」「健康」のカテゴリに分類するタスク（カテゴリ分類）に取り組む．"
   ]
  },
  {
   "cell_type": "markdown",
   "metadata": {},
   "source": [
    "## 50. データの入手・整形"
   ]
  },
  {
   "cell_type": "markdown",
   "metadata": {},
   "source": [
    "News Aggregator Data Setをダウンロードし、以下の要領で学習データ（train.txt），検証データ（valid.txt），評価データ（test.txt）を作成せよ．\n",
    "\n",
    "- ダウンロードしたzipファイルを解凍し，readme.txtの説明を読む．\n",
    "- 情報源（publisher）が”Reuters”, “Huffington Post”, “Businessweek”, “Contactmusic.com”, “Daily Mail”の事例（記事）のみを抽出する．\n",
    "- 抽出された事例をランダムに並び替える．\n",
    "- 抽出された事例の80%を学習データ，残りの10%ずつを検証データと評価データに分割し，それぞれtrain.txt，valid.txt，test.txtというファイル名で保存する．ファイルには，１行に１事例を書き出すこととし，カテゴリ名と記事見出しのタブ区切り形式とせよ（このファイルは後に問題70で再利用する）．\n",
    "\n",
    "学習データと評価データを作成したら，各カテゴリの事例数を確認せよ．"
   ]
  },
  {
   "cell_type": "code",
   "execution_count": 1,
   "metadata": {},
   "outputs": [
    {
     "name": "stdout",
     "output_type": "stream",
     "text": [
      "  % Total    % Received % Xferd  Average Speed   Time    Time     Time  Current\n",
      "                                 Dload  Upload   Total   Spent    Left  Speed\n",
      "100 27.8M  100 27.8M    0     0   885k      0  0:00:32  0:00:32 --:--:-- 1292k 53501      0  0:09:06 --:--:--  0:09:06 5344165k      0  0:01:18  0:00:05  0:01:13  421k\n"
     ]
    }
   ],
   "source": [
    "!curl -o ./data/nlp_100_50_59/NewsAggregatorDataset.zip --create-dirs https://archive.ics.uci.edu/ml/machine-learning-databases/00359/NewsAggregatorDataset.zip"
   ]
  },
  {
   "cell_type": "code",
   "execution_count": 2,
   "metadata": {},
   "outputs": [
    {
     "name": "stdout",
     "output_type": "stream",
     "text": [
      "Archive:  ./data/nlp_100_50_59/NewsAggregatorDataset.zip\n",
      "replace ./data/nlp_100_50_59/2pageSessions.csv? [y]es, [n]o, [A]ll, [N]one, [r]ename: ^C\n"
     ]
    }
   ],
   "source": [
    "!unzip ./data/nlp_100_50_59/NewsAggregatorDataset.zip -d ./data/nlp_100_50_59/"
   ]
  },
  {
   "cell_type": "code",
   "execution_count": 2,
   "metadata": {},
   "outputs": [
    {
     "name": "stdout",
     "output_type": "stream",
     "text": [
      "1\tFed official says weak data caused by weather, should not slow taper\thttp://www.latimes.com/business/money/la-fi-mo-federal-reserve-plosser-stimulus-economy-20140310,0,1312750.story\\?track=rss\tLos Angeles Times\tb\tddUyU0VZz0BRneMioxUPQVP6sIxvM\twww.latimes.com\t1394470370698\r\n",
      "2\tFed's Charles Plosser sees high bar for change in pace of tapering\thttp://www.livemint.com/Politics/H2EvwJSK2VE6OF7iK1g3PP/Feds-Charles-Plosser-sees-high-bar-for-change-in-pace-of-ta.html\tLivemint\tb\tddUyU0VZz0BRneMioxUPQVP6sIxvM\twww.livemint.com\t1394470371207\r\n",
      "3\tUS open: Stocks fall after Fed official hints at accelerated tapering\thttp://www.ifamagazine.com/news/us-open-stocks-fall-after-fed-official-hints-at-accelerated-tapering-294436\tIFA Magazine\tb\tddUyU0VZz0BRneMioxUPQVP6sIxvM\twww.ifamagazine.com\t1394470371550\r\n",
      "4\tFed risks falling 'behind the curve', Charles Plosser says\thttp://www.ifamagazine.com/news/fed-risks-falling-behind-the-curve-charles-plosser-says-294430\tIFA Magazine\tb\tddUyU0VZz0BRneMioxUPQVP6sIxvM\twww.ifamagazine.com\t1394470371793\r\n",
      "5\tFed's Plosser: Nasty Weather Has Curbed Job Growth\thttp://www.moneynews.com/Economy/federal-reserve-charles-plosser-weather-job-growth/2014/03/10/id/557011\tMoneynews\tb\tddUyU0VZz0BRneMioxUPQVP6sIxvM\twww.moneynews.com\t1394470372027\r\n"
     ]
    }
   ],
   "source": [
    "!head -n 5 ./data/nlp_100_50_59/newsCorpora.csv"
   ]
  },
  {
   "cell_type": "code",
   "execution_count": 3,
   "metadata": {},
   "outputs": [],
   "source": [
    "import pandas as pd\n",
    "articles = pd.read_csv('./data/nlp_100_50_59/newsCorpora.csv', delimiter='\\t', header=None)"
   ]
  },
  {
   "cell_type": "code",
   "execution_count": 4,
   "metadata": {},
   "outputs": [
    {
     "data": {
      "text/html": [
       "<div>\n",
       "<style scoped>\n",
       "    .dataframe tbody tr th:only-of-type {\n",
       "        vertical-align: middle;\n",
       "    }\n",
       "\n",
       "    .dataframe tbody tr th {\n",
       "        vertical-align: top;\n",
       "    }\n",
       "\n",
       "    .dataframe thead th {\n",
       "        text-align: right;\n",
       "    }\n",
       "</style>\n",
       "<table border=\"1\" class=\"dataframe\">\n",
       "  <thead>\n",
       "    <tr style=\"text-align: right;\">\n",
       "      <th></th>\n",
       "      <th>0</th>\n",
       "      <th>1</th>\n",
       "      <th>2</th>\n",
       "      <th>3</th>\n",
       "      <th>4</th>\n",
       "      <th>5</th>\n",
       "      <th>6</th>\n",
       "      <th>7</th>\n",
       "    </tr>\n",
       "  </thead>\n",
       "  <tbody>\n",
       "    <tr>\n",
       "      <th>0</th>\n",
       "      <td>1</td>\n",
       "      <td>Fed official says weak data caused by weather,...</td>\n",
       "      <td>http://www.latimes.com/business/money/la-fi-mo...</td>\n",
       "      <td>Los Angeles Times</td>\n",
       "      <td>b</td>\n",
       "      <td>ddUyU0VZz0BRneMioxUPQVP6sIxvM</td>\n",
       "      <td>www.latimes.com</td>\n",
       "      <td>1394470370698</td>\n",
       "    </tr>\n",
       "    <tr>\n",
       "      <th>1</th>\n",
       "      <td>2</td>\n",
       "      <td>Fed's Charles Plosser sees high bar for change...</td>\n",
       "      <td>http://www.livemint.com/Politics/H2EvwJSK2VE6O...</td>\n",
       "      <td>Livemint</td>\n",
       "      <td>b</td>\n",
       "      <td>ddUyU0VZz0BRneMioxUPQVP6sIxvM</td>\n",
       "      <td>www.livemint.com</td>\n",
       "      <td>1394470371207</td>\n",
       "    </tr>\n",
       "    <tr>\n",
       "      <th>2</th>\n",
       "      <td>3</td>\n",
       "      <td>US open: Stocks fall after Fed official hints ...</td>\n",
       "      <td>http://www.ifamagazine.com/news/us-open-stocks...</td>\n",
       "      <td>IFA Magazine</td>\n",
       "      <td>b</td>\n",
       "      <td>ddUyU0VZz0BRneMioxUPQVP6sIxvM</td>\n",
       "      <td>www.ifamagazine.com</td>\n",
       "      <td>1394470371550</td>\n",
       "    </tr>\n",
       "    <tr>\n",
       "      <th>3</th>\n",
       "      <td>4</td>\n",
       "      <td>Fed risks falling 'behind the curve', Charles ...</td>\n",
       "      <td>http://www.ifamagazine.com/news/fed-risks-fall...</td>\n",
       "      <td>IFA Magazine</td>\n",
       "      <td>b</td>\n",
       "      <td>ddUyU0VZz0BRneMioxUPQVP6sIxvM</td>\n",
       "      <td>www.ifamagazine.com</td>\n",
       "      <td>1394470371793</td>\n",
       "    </tr>\n",
       "    <tr>\n",
       "      <th>4</th>\n",
       "      <td>5</td>\n",
       "      <td>Fed's Plosser: Nasty Weather Has Curbed Job Gr...</td>\n",
       "      <td>http://www.moneynews.com/Economy/federal-reser...</td>\n",
       "      <td>Moneynews</td>\n",
       "      <td>b</td>\n",
       "      <td>ddUyU0VZz0BRneMioxUPQVP6sIxvM</td>\n",
       "      <td>www.moneynews.com</td>\n",
       "      <td>1394470372027</td>\n",
       "    </tr>\n",
       "  </tbody>\n",
       "</table>\n",
       "</div>"
      ],
      "text/plain": [
       "   0                                                  1  \\\n",
       "0  1  Fed official says weak data caused by weather,...   \n",
       "1  2  Fed's Charles Plosser sees high bar for change...   \n",
       "2  3  US open: Stocks fall after Fed official hints ...   \n",
       "3  4  Fed risks falling 'behind the curve', Charles ...   \n",
       "4  5  Fed's Plosser: Nasty Weather Has Curbed Job Gr...   \n",
       "\n",
       "                                                   2                  3  4  \\\n",
       "0  http://www.latimes.com/business/money/la-fi-mo...  Los Angeles Times  b   \n",
       "1  http://www.livemint.com/Politics/H2EvwJSK2VE6O...           Livemint  b   \n",
       "2  http://www.ifamagazine.com/news/us-open-stocks...       IFA Magazine  b   \n",
       "3  http://www.ifamagazine.com/news/fed-risks-fall...       IFA Magazine  b   \n",
       "4  http://www.moneynews.com/Economy/federal-reser...          Moneynews  b   \n",
       "\n",
       "                               5                    6              7  \n",
       "0  ddUyU0VZz0BRneMioxUPQVP6sIxvM      www.latimes.com  1394470370698  \n",
       "1  ddUyU0VZz0BRneMioxUPQVP6sIxvM     www.livemint.com  1394470371207  \n",
       "2  ddUyU0VZz0BRneMioxUPQVP6sIxvM  www.ifamagazine.com  1394470371550  \n",
       "3  ddUyU0VZz0BRneMioxUPQVP6sIxvM  www.ifamagazine.com  1394470371793  \n",
       "4  ddUyU0VZz0BRneMioxUPQVP6sIxvM    www.moneynews.com  1394470372027  "
      ]
     },
     "execution_count": 4,
     "metadata": {},
     "output_type": "execute_result"
    }
   ],
   "source": [
    "articles.head(5)"
   ]
  },
  {
   "cell_type": "code",
   "execution_count": 5,
   "metadata": {},
   "outputs": [],
   "source": [
    "articles.columns = ['id', 'title', 'url', 'publisher', 'category', 'story', 'hostname', 'timestamp']"
   ]
  },
  {
   "cell_type": "code",
   "execution_count": 6,
   "metadata": {},
   "outputs": [],
   "source": [
    "articles = articles.query('publisher in [\"Reuters\", \"Huffington Post\", \"Businessweek\", \"Contactmusic.com\", \"Daily Mail\"]')"
   ]
  },
  {
   "cell_type": "code",
   "execution_count": 7,
   "metadata": {},
   "outputs": [],
   "source": [
    "import string\n",
    "import re\n",
    "\n",
    "def preprocess_text(text):\n",
    "    table = str.maketrans(string.punctuation, ' '*len(string.punctuation))\n",
    "    text = text.translate(table)\n",
    "    text = text.lower()\n",
    "    text = re.sub('[0-9]+', '0', text)\n",
    "    \n",
    "    return text"
   ]
  },
  {
   "cell_type": "code",
   "execution_count": 8,
   "metadata": {},
   "outputs": [],
   "source": [
    "articles['title'] = articles['title'].map(lambda x: preprocess_text(x))"
   ]
  },
  {
   "cell_type": "code",
   "execution_count": 9,
   "metadata": {},
   "outputs": [],
   "source": [
    "from sklearn.model_selection import train_test_split\n",
    "train, valid_test = train_test_split(articles, test_size=0.2, shuffle=True, random_state=123)\n",
    "valid, test = train_test_split(valid_test, test_size=0.5, shuffle=True, random_state=123)\n",
    "\n",
    "train.to_csv('./data/nlp_100_50_59/train.txt', sep='\\t', index=False)\n",
    "valid.to_csv('./data/nlp_100_50_59/valid.txt', sep='\\t', index=False)\n",
    "test.to_csv('./data/nlp_100_50_59/test.txt', sep='\\t', index=False)"
   ]
  },
  {
   "cell_type": "code",
   "execution_count": 10,
   "metadata": {},
   "outputs": [
    {
     "name": "stdout",
     "output_type": "stream",
     "text": [
      "b    4481\n",
      "e    4262\n",
      "t    1190\n",
      "m     739\n",
      "Name: category, dtype: int64\n",
      "b    568\n",
      "e    513\n",
      "t    164\n",
      "m     89\n",
      "Name: category, dtype: int64\n",
      "b    578\n",
      "e    504\n",
      "t    170\n",
      "m     82\n",
      "Name: category, dtype: int64\n"
     ]
    }
   ],
   "source": [
    "train = pd.read_csv('./data/nlp_100_50_59/train.txt', delimiter='\\t')\n",
    "valid = pd.read_csv('./data/nlp_100_50_59/valid.txt', delimiter='\\t')\n",
    "test = pd.read_csv('./data/nlp_100_50_59/test.txt', delimiter='\\t')\n",
    "print(train['category'].value_counts())\n",
    "print(valid['category'].value_counts())\n",
    "print(test['category'].value_counts())"
   ]
  },
  {
   "cell_type": "markdown",
   "metadata": {},
   "source": [
    "## 51. 特徴量抽出"
   ]
  },
  {
   "cell_type": "markdown",
   "metadata": {},
   "source": [
    "学習データ，検証データ，評価データから特徴量を抽出し，それぞれtrain.feature.txt，valid.feature.txt，test.feature.txtというファイル名で保存せよ． なお，カテゴリ分類に有用そうな特徴量は各自で自由に設計せよ．記事の見出しを単語列に変換したものが最低限のベースラインとなるであろう．"
   ]
  },
  {
   "cell_type": "code",
   "execution_count": 11,
   "metadata": {},
   "outputs": [],
   "source": [
    "from sklearn.feature_extraction.text import TfidfVectorizer\n",
    "\n",
    "vec_tfidf = TfidfVectorizer(ngram_range=(1, 2), min_df=10)\n",
    "\n",
    "x_train = vec_tfidf.fit_transform(train['title'])\n",
    "x_valid = vec_tfidf.transform(valid['title'])\n",
    "x_test = vec_tfidf.transform(test['title'])\n",
    "\n",
    "x_train = pd.DataFrame(x_train.toarray(), columns=vec_tfidf.get_feature_names())\n",
    "x_valid = pd.DataFrame(x_valid.toarray(), columns=vec_tfidf.get_feature_names())\n",
    "x_test = pd.DataFrame(x_test.toarray(), columns=vec_tfidf.get_feature_names())\n",
    "\n",
    "y_train = train['category']\n",
    "y_valid = valid['category']\n",
    "y_test = test['category']\n",
    "\n",
    "x_train.to_csv('./data/nlp_100_50_59/x_train.csv', sep='\\t', index=False)\n",
    "y_train.to_csv('./data/nlp_100_50_59/y_train.csv', sep='\\t', index=False, header=True)\n",
    "x_valid.to_csv('./data/nlp_100_50_59/x_valid.csv', sep='\\t', index=False)\n",
    "y_valid.to_csv('./data/nlp_100_50_59/y_valid.csv', sep='\\t', index=False, header=True)\n",
    "x_test.to_csv('./data/nlp_100_50_59/x_test.csv', sep='\\t', index=False)\n",
    "y_test.to_csv('./data/nlp_100_50_59/y_test.csv', sep='\\t', index=False, header=True)"
   ]
  },
  {
   "cell_type": "markdown",
   "metadata": {},
   "source": [
    "## 52. 学習"
   ]
  },
  {
   "cell_type": "markdown",
   "metadata": {},
   "source": [
    "51で構築した学習データを用いて，ロジスティック回帰モデルを学習せよ．"
   ]
  },
  {
   "cell_type": "code",
   "execution_count": 12,
   "metadata": {},
   "outputs": [
    {
     "name": "stderr",
     "output_type": "stream",
     "text": [
      "/Users/uchi_k/.pyenv/versions/anaconda3-5.3.1/lib/python3.7/site-packages/sklearn/utils/validation.py:72: DataConversionWarning: A column-vector y was passed when a 1d array was expected. Please change the shape of y to (n_samples, ), for example using ravel().\n",
      "  return f(**kwargs)\n",
      "/Users/uchi_k/.pyenv/versions/anaconda3-5.3.1/lib/python3.7/site-packages/sklearn/linear_model/_logistic.py:764: ConvergenceWarning: lbfgs failed to converge (status=1):\n",
      "STOP: TOTAL NO. of ITERATIONS REACHED LIMIT.\n",
      "\n",
      "Increase the number of iterations (max_iter) or scale the data as shown in:\n",
      "    https://scikit-learn.org/stable/modules/preprocessing.html\n",
      "Please also refer to the documentation for alternative solver options:\n",
      "    https://scikit-learn.org/stable/modules/linear_model.html#logistic-regression\n",
      "  extra_warning_msg=_LOGISTIC_SOLVER_CONVERGENCE_MSG)\n"
     ]
    },
    {
     "data": {
      "text/plain": [
       "LogisticRegression(random_state=123)"
      ]
     },
     "execution_count": 12,
     "metadata": {},
     "output_type": "execute_result"
    }
   ],
   "source": [
    "from sklearn.linear_model import LogisticRegression\n",
    "\n",
    "x_train = pd.read_csv('./data/nlp_100_50_59/x_train.csv', delimiter='\\t')\n",
    "y_train = pd.read_csv('./data/nlp_100_50_59/y_train.csv', delimiter='\\t')\n",
    "\n",
    "lg = LogisticRegression(random_state=123)\n",
    "lg.fit(x_train, y_train)"
   ]
  },
  {
   "cell_type": "markdown",
   "metadata": {},
   "source": [
    "## 53. 予測"
   ]
  },
  {
   "cell_type": "markdown",
   "metadata": {},
   "source": [
    "52で学習したロジスティック回帰モデルを用い，与えられた記事見出しからカテゴリとその予測確率を計算するプログラムを実装せよ．"
   ]
  },
  {
   "cell_type": "code",
   "execution_count": 13,
   "metadata": {},
   "outputs": [],
   "source": [
    "import numpy as np\n",
    "\n",
    "def score_lg(lg, x):\n",
    "    return [np.max(lg.predict_proba(x), axis=1), lg.predict(x)]"
   ]
  },
  {
   "cell_type": "code",
   "execution_count": 14,
   "metadata": {},
   "outputs": [
    {
     "data": {
      "text/plain": [
       "[array([0.51456587, 0.96788825, 0.80738194, ..., 0.55189056, 0.95498245,\n",
       "        0.9523874 ]), array(['b', 'b', 'e', ..., 't', 'b', 'b'], dtype=object)]"
      ]
     },
     "execution_count": 14,
     "metadata": {},
     "output_type": "execute_result"
    }
   ],
   "source": [
    "test_pred = score_lg(lg, x_test)\n",
    "test_pred"
   ]
  },
  {
   "cell_type": "markdown",
   "metadata": {},
   "source": [
    "## 54. 正解率の計測"
   ]
  },
  {
   "cell_type": "markdown",
   "metadata": {},
   "source": [
    "52で学習したロジスティック回帰モデルの正解率を，学習データおよび評価データ上で計測せよ．"
   ]
  },
  {
   "cell_type": "code",
   "execution_count": 15,
   "metadata": {},
   "outputs": [
    {
     "name": "stdout",
     "output_type": "stream",
     "text": [
      "0.9211019490254873\n",
      "0.8755622188905547\n"
     ]
    }
   ],
   "source": [
    "from sklearn.metrics import accuracy_score\n",
    "\n",
    "train_accuracy = accuracy_score(y_train, score_lg(lg, x_train)[1])\n",
    "test_accuracy = accuracy_score(y_test, test_pred[1])\n",
    "print(train_accuracy)\n",
    "print(test_accuracy)"
   ]
  },
  {
   "cell_type": "markdown",
   "metadata": {},
   "source": [
    "## 55. 混同行列の作成"
   ]
  },
  {
   "cell_type": "markdown",
   "metadata": {},
   "source": [
    "52で学習したロジスティック回帰モデルの混同行列（confusion matrix）を，学習データおよび評価データ上で作成せよ．"
   ]
  },
  {
   "cell_type": "code",
   "execution_count": 16,
   "metadata": {},
   "outputs": [
    {
     "data": {
      "text/plain": [
       "<matplotlib.axes._subplots.AxesSubplot at 0x7ffcbfbe9be0>"
      ]
     },
     "execution_count": 16,
     "metadata": {},
     "output_type": "execute_result"
    }
   ],
   "source": [
    "from sklearn.metrics import confusion_matrix\n",
    "import seaborn\n",
    "seaborn.set()\n",
    "\n",
    "train_cm = confusion_matrix(y_train, score_lg(lg, x_train)[1])\n",
    "seaborn.heatmap(train_cm, annot=True, cmap='Blues', fmt=\"d\")"
   ]
  },
  {
   "cell_type": "code",
   "execution_count": 17,
   "metadata": {},
   "outputs": [
    {
     "data": {
      "text/plain": [
       "<matplotlib.axes._subplots.AxesSubplot at 0x7ffcbfd7e048>"
      ]
     },
     "execution_count": 17,
     "metadata": {},
     "output_type": "execute_result"
    },
    {
     "data": {
      "image/png": "[encoded data removed]",
      "text/plain": [
       "<Figure size 432x288 with 2 Axes>"
      ]
     },
     "metadata": {
      "needs_background": "light"
     },
     "output_type": "display_data"
    }
   ],
   "source": [
    "test_cm = confusion_matrix(y_test, test_pred[1])\n",
    "seaborn.heatmap(test_cm, annot=True, cmap='Blues', fmt=\"d\")"
   ]
  },
  {
   "cell_type": "markdown",
   "metadata": {},
   "source": [
    "## 56. 適合率，再現率，F1スコアの計測"
   ]
  },
  {
   "cell_type": "markdown",
   "metadata": {},
   "source": [
    "52で学習したロジスティック回帰モデルの適合率，再現率，F1スコアを，評価データ上で計測せよ．カテゴリごとに適合率，再現率，F1スコアを求め，カテゴリごとの性能をマイクロ平均（micro-average）とマクロ平均（macro-average）で統合せよ．"
   ]
  },
  {
   "cell_type": "code",
   "execution_count": 18,
   "metadata": {},
   "outputs": [
    {
     "name": "stdout",
     "output_type": "stream",
     "text": [
      "{'precision': array([0.88815789, 0.87545126, 0.80508475, 0.88888889]), 'micro': 0.8755622188905547, 'macro': 0.8643956982315872}\n",
      "{'recall': array([0.93425606, 0.96230159, 0.55882353, 0.58536585]), 'micro': 0.8755622188905547, 'macro': 0.7601867564338025}\n",
      "{'f1': array([0.91062395, 0.9168242 , 0.65972222, 0.70588235]), 'micro': 0.8755622188905547, 'macro': 0.798263179449463}\n"
     ]
    }
   ],
   "source": [
    "from sklearn.metrics import precision_score, recall_score, f1_score\n",
    "\n",
    "true = y_test\n",
    "pred = test_pred[1]\n",
    "\n",
    "precision = {\n",
    "    'precision': precision_score(true, pred, average=None, labels=['b', 'e', 't', 'm']),\n",
    "    'micro': precision_score(true, pred, average='micro'),\n",
    "    'macro': precision_score(true, pred, average='macro')\n",
    "}\n",
    "recall = {\n",
    "    'recall': recall_score(true, pred, average=None, labels=['b', 'e', 't', 'm']),\n",
    "    'micro': recall_score(true, pred, average='micro'),\n",
    "    'macro': recall_score(true, pred, average='macro')\n",
    "}\n",
    "f1 = {\n",
    "    'f1': f1_score(true, pred, average=None, labels=['b', 'e', 't', 'm']),\n",
    "    'micro': f1_score(true, pred, average='micro'),\n",
    "    'macro': f1_score(true, pred, average='macro')\n",
    "}\n",
    "print(precision)\n",
    "print(recall)\n",
    "print(f1)"
   ]
  },
  {
   "cell_type": "markdown",
   "metadata": {},
   "source": [
    "precision は、Aと予測したデータのうち実際にAであるものの割合。recall は、実際にAであるもののうち、Aと予測されたものの割合。\n",
    "\n",
    "macro-f1 はクラスごとのf値の平均で、micro-f1 は TP, FN, FP, TN を合計してからf値を計算したもの。\n",
    "\n",
    "macro では全てのクラスのメトリックを個別で計算したあと平均を取るので、クラスの違いは全体では考慮されない。一方で、micro では全てのクラスの寄与をクラスサイズを反映した形で集約している。\n",
    "\n",
    "簡単に言えば、macro-f1 はクラスサイズが反映されず、micro-f1 では反映される。なので、クラスの不均衡がある場合は、micro の方が正当性のある結果が出る。"
   ]
  },
  {
   "cell_type": "markdown",
   "metadata": {},
   "source": [
    "## 57. 特徴量の重みの確認"
   ]
  },
  {
   "cell_type": "markdown",
   "metadata": {},
   "source": [
    "52で学習したロジスティック回帰モデルの中で，重みの高い特徴量トップ10と，重みの低い特徴量トップ10を確認せよ．"
   ]
  },
  {
   "cell_type": "code",
   "execution_count": 19,
   "metadata": {},
   "outputs": [
    {
     "data": {
      "text/plain": [
       "array(['b', 'e', 'm', 't'], dtype=object)"
      ]
     },
     "execution_count": 19,
     "metadata": {},
     "output_type": "execute_result"
    }
   ],
   "source": [
    "lg.classes_"
   ]
  },
  {
   "cell_type": "code",
   "execution_count": 20,
   "metadata": {},
   "outputs": [
    {
     "data": {
      "text/plain": [
       "array(['0m', '0nd', '0s', ..., 'zac efron', 'zendaya', 'zone'],\n",
       "      dtype=object)"
      ]
     },
     "execution_count": 20,
     "metadata": {},
     "output_type": "execute_result"
    }
   ],
   "source": [
    "x_train.columns.values"
   ]
  },
  {
   "cell_type": "code",
   "execution_count": 21,
   "metadata": {},
   "outputs": [],
   "source": [
    "bests, worsts = [], []\n",
    "for c, coef in zip(lg.classes_, lg.coef_):\n",
    "    bests.append(x_train.columns.values[np.argsort(coef)[::-1]])\n",
    "    worsts.append(x_train.columns.values[np.argsort(coef)])\n",
    "best_pd = pd.DataFrame(bests, index=['b', 'e', 'm', 't'])\n",
    "worst_pd = pd.DataFrame(worsts, index=['b', 'e', 'm', 't'])"
   ]
  },
  {
   "cell_type": "code",
   "execution_count": 22,
   "metadata": {},
   "outputs": [
    {
     "data": {
      "text/html": [
       "<div>\n",
       "<style scoped>\n",
       "    .dataframe tbody tr th:only-of-type {\n",
       "        vertical-align: middle;\n",
       "    }\n",
       "\n",
       "    .dataframe tbody tr th {\n",
       "        vertical-align: top;\n",
       "    }\n",
       "\n",
       "    .dataframe thead th {\n",
       "        text-align: right;\n",
       "    }\n",
       "</style>\n",
       "<table border=\"1\" class=\"dataframe\">\n",
       "  <thead>\n",
       "    <tr style=\"text-align: right;\">\n",
       "      <th></th>\n",
       "      <th>0</th>\n",
       "      <th>1</th>\n",
       "      <th>2</th>\n",
       "      <th>3</th>\n",
       "      <th>4</th>\n",
       "      <th>5</th>\n",
       "      <th>6</th>\n",
       "      <th>7</th>\n",
       "      <th>8</th>\n",
       "      <th>9</th>\n",
       "      <th>...</th>\n",
       "      <th>2470</th>\n",
       "      <th>2471</th>\n",
       "      <th>2472</th>\n",
       "      <th>2473</th>\n",
       "      <th>2474</th>\n",
       "      <th>2475</th>\n",
       "      <th>2476</th>\n",
       "      <th>2477</th>\n",
       "      <th>2478</th>\n",
       "      <th>2479</th>\n",
       "    </tr>\n",
       "  </thead>\n",
       "  <tbody>\n",
       "    <tr>\n",
       "      <th>b</th>\n",
       "      <td>fed</td>\n",
       "      <td>bank</td>\n",
       "      <td>ecb</td>\n",
       "      <td>china</td>\n",
       "      <td>stocks</td>\n",
       "      <td>euro</td>\n",
       "      <td>oil</td>\n",
       "      <td>yellen</td>\n",
       "      <td>dollar</td>\n",
       "      <td>ukraine</td>\n",
       "      <td>...</td>\n",
       "      <td>star</td>\n",
       "      <td>study</td>\n",
       "      <td>microsoft</td>\n",
       "      <td>her</td>\n",
       "      <td>she</td>\n",
       "      <td>and</td>\n",
       "      <td>apple</td>\n",
       "      <td>aereo</td>\n",
       "      <td>video</td>\n",
       "      <td>ebola</td>\n",
       "    </tr>\n",
       "    <tr>\n",
       "      <th>e</th>\n",
       "      <td>kardashian</td>\n",
       "      <td>chris</td>\n",
       "      <td>movie</td>\n",
       "      <td>she</td>\n",
       "      <td>star</td>\n",
       "      <td>kim</td>\n",
       "      <td>film</td>\n",
       "      <td>her</td>\n",
       "      <td>jay</td>\n",
       "      <td>wedding</td>\n",
       "      <td>...</td>\n",
       "      <td>ceo</td>\n",
       "      <td>data</td>\n",
       "      <td>could</td>\n",
       "      <td>gm</td>\n",
       "      <td>study</td>\n",
       "      <td>says</td>\n",
       "      <td>china</td>\n",
       "      <td>google</td>\n",
       "      <td>update</td>\n",
       "      <td>us</td>\n",
       "    </tr>\n",
       "    <tr>\n",
       "      <th>m</th>\n",
       "      <td>ebola</td>\n",
       "      <td>study</td>\n",
       "      <td>fda</td>\n",
       "      <td>cancer</td>\n",
       "      <td>mers</td>\n",
       "      <td>drug</td>\n",
       "      <td>cdc</td>\n",
       "      <td>doctors</td>\n",
       "      <td>could</td>\n",
       "      <td>cases</td>\n",
       "      <td>...</td>\n",
       "      <td>big</td>\n",
       "      <td>twitter</td>\n",
       "      <td>tv</td>\n",
       "      <td>bank</td>\n",
       "      <td>deal</td>\n",
       "      <td>apple</td>\n",
       "      <td>google</td>\n",
       "      <td>ceo</td>\n",
       "      <td>gm</td>\n",
       "      <td>facebook</td>\n",
       "    </tr>\n",
       "    <tr>\n",
       "      <th>t</th>\n",
       "      <td>google</td>\n",
       "      <td>apple</td>\n",
       "      <td>facebook</td>\n",
       "      <td>microsoft</td>\n",
       "      <td>climate</td>\n",
       "      <td>tesla</td>\n",
       "      <td>nasa</td>\n",
       "      <td>gm</td>\n",
       "      <td>heartbleed</td>\n",
       "      <td>comcast</td>\n",
       "      <td>...</td>\n",
       "      <td>still</td>\n",
       "      <td>ecb</td>\n",
       "      <td>ukraine</td>\n",
       "      <td>drug</td>\n",
       "      <td>cancer</td>\n",
       "      <td>percent</td>\n",
       "      <td>american</td>\n",
       "      <td>fed</td>\n",
       "      <td>stocks</td>\n",
       "      <td>her</td>\n",
       "    </tr>\n",
       "  </tbody>\n",
       "</table>\n",
       "<p>4 rows × 2480 columns</p>\n",
       "</div>"
      ],
      "text/plain": [
       "         0      1         2          3        4      5     6        7     \\\n",
       "b         fed   bank       ecb      china   stocks   euro   oil   yellen   \n",
       "e  kardashian  chris     movie        she     star    kim  film      her   \n",
       "m       ebola  study       fda     cancer     mers   drug   cdc  doctors   \n",
       "t      google  apple  facebook  microsoft  climate  tesla  nasa       gm   \n",
       "\n",
       "         8        9     ...   2470     2471       2472  2473    2474     2475  \\\n",
       "b      dollar  ukraine  ...   star    study  microsoft   her     she      and   \n",
       "e         jay  wedding  ...    ceo     data      could    gm   study     says   \n",
       "m       could    cases  ...    big  twitter         tv  bank    deal    apple   \n",
       "t  heartbleed  comcast  ...  still      ecb    ukraine  drug  cancer  percent   \n",
       "\n",
       "       2476    2477    2478      2479  \n",
       "b     apple   aereo   video     ebola  \n",
       "e     china  google  update        us  \n",
       "m    google     ceo      gm  facebook  \n",
       "t  american     fed  stocks       her  \n",
       "\n",
       "[4 rows x 2480 columns]"
      ]
     },
     "execution_count": 22,
     "metadata": {},
     "output_type": "execute_result"
    }
   ],
   "source": [
    "best_pd"
   ]
  },
  {
   "cell_type": "code",
   "execution_count": 23,
   "metadata": {},
   "outputs": [
    {
     "data": {
      "text/html": [
       "<div>\n",
       "<style scoped>\n",
       "    .dataframe tbody tr th:only-of-type {\n",
       "        vertical-align: middle;\n",
       "    }\n",
       "\n",
       "    .dataframe tbody tr th {\n",
       "        vertical-align: top;\n",
       "    }\n",
       "\n",
       "    .dataframe thead th {\n",
       "        text-align: right;\n",
       "    }\n",
       "</style>\n",
       "<table border=\"1\" class=\"dataframe\">\n",
       "  <thead>\n",
       "    <tr style=\"text-align: right;\">\n",
       "      <th></th>\n",
       "      <th>0</th>\n",
       "      <th>1</th>\n",
       "      <th>2</th>\n",
       "      <th>3</th>\n",
       "      <th>4</th>\n",
       "      <th>5</th>\n",
       "      <th>6</th>\n",
       "      <th>7</th>\n",
       "      <th>8</th>\n",
       "      <th>9</th>\n",
       "      <th>...</th>\n",
       "      <th>2470</th>\n",
       "      <th>2471</th>\n",
       "      <th>2472</th>\n",
       "      <th>2473</th>\n",
       "      <th>2474</th>\n",
       "      <th>2475</th>\n",
       "      <th>2476</th>\n",
       "      <th>2477</th>\n",
       "      <th>2478</th>\n",
       "      <th>2479</th>\n",
       "    </tr>\n",
       "  </thead>\n",
       "  <tbody>\n",
       "    <tr>\n",
       "      <th>b</th>\n",
       "      <td>ebola</td>\n",
       "      <td>video</td>\n",
       "      <td>aereo</td>\n",
       "      <td>apple</td>\n",
       "      <td>and</td>\n",
       "      <td>she</td>\n",
       "      <td>her</td>\n",
       "      <td>microsoft</td>\n",
       "      <td>study</td>\n",
       "      <td>star</td>\n",
       "      <td>...</td>\n",
       "      <td>ukraine</td>\n",
       "      <td>dollar</td>\n",
       "      <td>yellen</td>\n",
       "      <td>oil</td>\n",
       "      <td>euro</td>\n",
       "      <td>stocks</td>\n",
       "      <td>china</td>\n",
       "      <td>ecb</td>\n",
       "      <td>bank</td>\n",
       "      <td>fed</td>\n",
       "    </tr>\n",
       "    <tr>\n",
       "      <th>e</th>\n",
       "      <td>us</td>\n",
       "      <td>update</td>\n",
       "      <td>google</td>\n",
       "      <td>china</td>\n",
       "      <td>says</td>\n",
       "      <td>study</td>\n",
       "      <td>gm</td>\n",
       "      <td>could</td>\n",
       "      <td>data</td>\n",
       "      <td>ceo</td>\n",
       "      <td>...</td>\n",
       "      <td>wedding</td>\n",
       "      <td>jay</td>\n",
       "      <td>her</td>\n",
       "      <td>film</td>\n",
       "      <td>kim</td>\n",
       "      <td>star</td>\n",
       "      <td>she</td>\n",
       "      <td>movie</td>\n",
       "      <td>chris</td>\n",
       "      <td>kardashian</td>\n",
       "    </tr>\n",
       "    <tr>\n",
       "      <th>m</th>\n",
       "      <td>facebook</td>\n",
       "      <td>gm</td>\n",
       "      <td>ceo</td>\n",
       "      <td>google</td>\n",
       "      <td>apple</td>\n",
       "      <td>deal</td>\n",
       "      <td>bank</td>\n",
       "      <td>tv</td>\n",
       "      <td>twitter</td>\n",
       "      <td>big</td>\n",
       "      <td>...</td>\n",
       "      <td>cases</td>\n",
       "      <td>could</td>\n",
       "      <td>doctors</td>\n",
       "      <td>cdc</td>\n",
       "      <td>drug</td>\n",
       "      <td>mers</td>\n",
       "      <td>cancer</td>\n",
       "      <td>fda</td>\n",
       "      <td>study</td>\n",
       "      <td>ebola</td>\n",
       "    </tr>\n",
       "    <tr>\n",
       "      <th>t</th>\n",
       "      <td>her</td>\n",
       "      <td>stocks</td>\n",
       "      <td>fed</td>\n",
       "      <td>american</td>\n",
       "      <td>percent</td>\n",
       "      <td>cancer</td>\n",
       "      <td>drug</td>\n",
       "      <td>ukraine</td>\n",
       "      <td>ecb</td>\n",
       "      <td>still</td>\n",
       "      <td>...</td>\n",
       "      <td>comcast</td>\n",
       "      <td>heartbleed</td>\n",
       "      <td>gm</td>\n",
       "      <td>nasa</td>\n",
       "      <td>tesla</td>\n",
       "      <td>climate</td>\n",
       "      <td>microsoft</td>\n",
       "      <td>facebook</td>\n",
       "      <td>apple</td>\n",
       "      <td>google</td>\n",
       "    </tr>\n",
       "  </tbody>\n",
       "</table>\n",
       "<p>4 rows × 2480 columns</p>\n",
       "</div>"
      ],
      "text/plain": [
       "       0       1       2         3        4       5     6          7     \\\n",
       "b     ebola   video   aereo     apple      and     she   her  microsoft   \n",
       "e        us  update  google     china     says   study    gm      could   \n",
       "m  facebook      gm     ceo    google    apple    deal  bank         tv   \n",
       "t       her  stocks     fed  american  percent  cancer  drug    ukraine   \n",
       "\n",
       "      8      9     ...     2470        2471     2472  2473   2474     2475  \\\n",
       "b    study   star  ...  ukraine      dollar   yellen   oil   euro   stocks   \n",
       "e     data    ceo  ...  wedding         jay      her  film    kim     star   \n",
       "m  twitter    big  ...    cases       could  doctors   cdc   drug     mers   \n",
       "t      ecb  still  ...  comcast  heartbleed       gm  nasa  tesla  climate   \n",
       "\n",
       "        2476      2477   2478        2479  \n",
       "b      china       ecb   bank         fed  \n",
       "e        she     movie  chris  kardashian  \n",
       "m     cancer       fda  study       ebola  \n",
       "t  microsoft  facebook  apple      google  \n",
       "\n",
       "[4 rows x 2480 columns]"
      ]
     },
     "execution_count": 23,
     "metadata": {},
     "output_type": "execute_result"
    }
   ],
   "source": [
    "worst_pd"
   ]
  },
  {
   "cell_type": "markdown",
   "metadata": {},
   "source": [
    "## 58. 正則化パラメータの変更"
   ]
  },
  {
   "cell_type": "markdown",
   "metadata": {},
   "source": [
    "ロジスティック回帰モデルを学習するとき，正則化パラメータを調整することで，学習時の過学習（overfitting）の度合いを制御できる．異なる正則化パラメータでロジスティック回帰モデルを学習し，学習データ，検証データ，および評価データ上の正解率を求めよ．実験の結果は，正則化パラメータを横軸，正解率を縦軸としたグラフにまとめよ．"
   ]
  },
  {
   "cell_type": "code",
   "execution_count": 26,
   "metadata": {},
   "outputs": [
    {
     "name": "stderr",
     "output_type": "stream",
     "text": [
      "  0%|          | 0/11 [00:00<?, ?it/s]/Users/uchi_k/.pyenv/versions/anaconda3-5.3.1/lib/python3.7/site-packages/sklearn/utils/validation.py:72: DataConversionWarning: A column-vector y was passed when a 1d array was expected. Please change the shape of y to (n_samples, ), for example using ravel().\n",
      "  return f(**kwargs)\n",
      "  9%|▉         | 1/11 [00:02<00:25,  2.57s/it]/Users/uchi_k/.pyenv/versions/anaconda3-5.3.1/lib/python3.7/site-packages/sklearn/utils/validation.py:72: DataConversionWarning: A column-vector y was passed when a 1d array was expected. Please change the shape of y to (n_samples, ), for example using ravel().\n",
      "  return f(**kwargs)\n",
      " 18%|█▊        | 2/11 [00:04<00:20,  2.31s/it]/Users/uchi_k/.pyenv/versions/anaconda3-5.3.1/lib/python3.7/site-packages/sklearn/utils/validation.py:72: DataConversionWarning: A column-vector y was passed when a 1d array was expected. Please change the shape of y to (n_samples, ), for example using ravel().\n",
      "  return f(**kwargs)\n",
      " 27%|██▋       | 3/11 [00:05<00:16,  2.04s/it]/Users/uchi_k/.pyenv/versions/anaconda3-5.3.1/lib/python3.7/site-packages/sklearn/utils/validation.py:72: DataConversionWarning: A column-vector y was passed when a 1d array was expected. Please change the shape of y to (n_samples, ), for example using ravel().\n",
      "  return f(**kwargs)\n",
      " 36%|███▋      | 4/11 [00:07<00:14,  2.05s/it]/Users/uchi_k/.pyenv/versions/anaconda3-5.3.1/lib/python3.7/site-packages/sklearn/utils/validation.py:72: DataConversionWarning: A column-vector y was passed when a 1d array was expected. Please change the shape of y to (n_samples, ), for example using ravel().\n",
      "  return f(**kwargs)\n",
      " 45%|████▌     | 5/11 [00:11<00:15,  2.52s/it]/Users/uchi_k/.pyenv/versions/anaconda3-5.3.1/lib/python3.7/site-packages/sklearn/utils/validation.py:72: DataConversionWarning: A column-vector y was passed when a 1d array was expected. Please change the shape of y to (n_samples, ), for example using ravel().\n",
      "  return f(**kwargs)\n",
      " 55%|█████▍    | 6/11 [00:20<00:22,  4.54s/it]/Users/uchi_k/.pyenv/versions/anaconda3-5.3.1/lib/python3.7/site-packages/sklearn/utils/validation.py:72: DataConversionWarning: A column-vector y was passed when a 1d array was expected. Please change the shape of y to (n_samples, ), for example using ravel().\n",
      "  return f(**kwargs)\n",
      " 64%|██████▎   | 7/11 [00:38<00:33,  8.44s/it]/Users/uchi_k/.pyenv/versions/anaconda3-5.3.1/lib/python3.7/site-packages/sklearn/utils/validation.py:72: DataConversionWarning: A column-vector y was passed when a 1d array was expected. Please change the shape of y to (n_samples, ), for example using ravel().\n",
      "  return f(**kwargs)\n",
      " 73%|███████▎  | 8/11 [01:13<00:49, 16.36s/it]/Users/uchi_k/.pyenv/versions/anaconda3-5.3.1/lib/python3.7/site-packages/sklearn/utils/validation.py:72: DataConversionWarning: A column-vector y was passed when a 1d array was expected. Please change the shape of y to (n_samples, ), for example using ravel().\n",
      "  return f(**kwargs)\n",
      " 82%|████████▏ | 9/11 [02:19<01:02, 31.27s/it]/Users/uchi_k/.pyenv/versions/anaconda3-5.3.1/lib/python3.7/site-packages/sklearn/utils/validation.py:72: DataConversionWarning: A column-vector y was passed when a 1d array was expected. Please change the shape of y to (n_samples, ), for example using ravel().\n",
      "  return f(**kwargs)\n",
      " 91%|█████████ | 10/11 [04:23<00:59, 59.10s/it]/Users/uchi_k/.pyenv/versions/anaconda3-5.3.1/lib/python3.7/site-packages/sklearn/utils/validation.py:72: DataConversionWarning: A column-vector y was passed when a 1d array was expected. Please change the shape of y to (n_samples, ), for example using ravel().\n",
      "  return f(**kwargs)\n",
      "100%|██████████| 11/11 [08:09<00:00, 44.54s/it] \n"
     ]
    }
   ],
   "source": [
    "from tqdm import tqdm\n",
    "from sklearn.metrics import accuracy_score\n",
    "\n",
    "result = []\n",
    "for c in tqdm(np.logspace(-5, 5, 11, base=10)):\n",
    "    lg = LogisticRegression(random_state=123, max_iter=10000, C=c)\n",
    "    lg.fit(x_train, y_train)\n",
    "\n",
    "    train_pred = [np.max(lg.predict_proba(x_train), axis=1), lg.predict(x_train)]\n",
    "    valid_pred = [np.max(lg.predict_proba(x_valid), axis=1), lg.predict(x_valid)]\n",
    "    test_pred = [np.max(lg.predict_proba(x_test), axis=1), lg.predict(x_test)]\n",
    "\n",
    "    train_accuracy = accuracy_score(y_train, train_pred[1])\n",
    "    valid_accuracy = accuracy_score(y_valid, valid_pred[1])\n",
    "    test_accuracy = accuracy_score(y_test, test_pred[1])\n",
    "\n",
    "    result.append([c, train_accuracy, valid_accuracy, test_accuracy])"
   ]
  },
  {
   "cell_type": "code",
   "execution_count": 27,
   "metadata": {},
   "outputs": [],
   "source": [
    "result_pd = pd.DataFrame(result, columns=['c', 'train_accuracy', 'valid_accuracy', 'test_accuracy'])"
   ]
  },
  {
   "cell_type": "code",
   "execution_count": 28,
   "metadata": {},
   "outputs": [
    {
     "data": {
      "text/html": [
       "<div>\n",
       "<style scoped>\n",
       "    .dataframe tbody tr th:only-of-type {\n",
       "        vertical-align: middle;\n",
       "    }\n",
       "\n",
       "    .dataframe tbody tr th {\n",
       "        vertical-align: top;\n",
       "    }\n",
       "\n",
       "    .dataframe thead th {\n",
       "        text-align: right;\n",
       "    }\n",
       "</style>\n",
       "<table border=\"1\" class=\"dataframe\">\n",
       "  <thead>\n",
       "    <tr style=\"text-align: right;\">\n",
       "      <th></th>\n",
       "      <th>c</th>\n",
       "      <th>train_accuracy</th>\n",
       "      <th>valid_accuracy</th>\n",
       "      <th>test_accuracy</th>\n",
       "    </tr>\n",
       "  </thead>\n",
       "  <tbody>\n",
       "    <tr>\n",
       "      <th>0</th>\n",
       "      <td>0.00001</td>\n",
       "      <td>0.419884</td>\n",
       "      <td>0.425787</td>\n",
       "      <td>0.433283</td>\n",
       "    </tr>\n",
       "    <tr>\n",
       "      <th>1</th>\n",
       "      <td>0.00010</td>\n",
       "      <td>0.419884</td>\n",
       "      <td>0.425787</td>\n",
       "      <td>0.433283</td>\n",
       "    </tr>\n",
       "    <tr>\n",
       "      <th>2</th>\n",
       "      <td>0.00100</td>\n",
       "      <td>0.519115</td>\n",
       "      <td>0.518741</td>\n",
       "      <td>0.520240</td>\n",
       "    </tr>\n",
       "    <tr>\n",
       "      <th>3</th>\n",
       "      <td>0.01000</td>\n",
       "      <td>0.763400</td>\n",
       "      <td>0.760120</td>\n",
       "      <td>0.750375</td>\n",
       "    </tr>\n",
       "    <tr>\n",
       "      <th>4</th>\n",
       "      <td>0.10000</td>\n",
       "      <td>0.804254</td>\n",
       "      <td>0.798351</td>\n",
       "      <td>0.788606</td>\n",
       "    </tr>\n",
       "    <tr>\n",
       "      <th>5</th>\n",
       "      <td>1.00000</td>\n",
       "      <td>0.921196</td>\n",
       "      <td>0.881559</td>\n",
       "      <td>0.875562</td>\n",
       "    </tr>\n",
       "    <tr>\n",
       "      <th>6</th>\n",
       "      <td>10.00000</td>\n",
       "      <td>0.974232</td>\n",
       "      <td>0.884558</td>\n",
       "      <td>0.877811</td>\n",
       "    </tr>\n",
       "    <tr>\n",
       "      <th>7</th>\n",
       "      <td>100.00000</td>\n",
       "      <td>0.995596</td>\n",
       "      <td>0.869565</td>\n",
       "      <td>0.850075</td>\n",
       "    </tr>\n",
       "    <tr>\n",
       "      <th>8</th>\n",
       "      <td>1000.00000</td>\n",
       "      <td>0.998126</td>\n",
       "      <td>0.847076</td>\n",
       "      <td>0.830585</td>\n",
       "    </tr>\n",
       "    <tr>\n",
       "      <th>9</th>\n",
       "      <td>10000.00000</td>\n",
       "      <td>0.998220</td>\n",
       "      <td>0.835832</td>\n",
       "      <td>0.820840</td>\n",
       "    </tr>\n",
       "    <tr>\n",
       "      <th>10</th>\n",
       "      <td>100000.00000</td>\n",
       "      <td>0.998220</td>\n",
       "      <td>0.835832</td>\n",
       "      <td>0.819340</td>\n",
       "    </tr>\n",
       "  </tbody>\n",
       "</table>\n",
       "</div>"
      ],
      "text/plain": [
       "               c  train_accuracy  valid_accuracy  test_accuracy\n",
       "0        0.00001        0.419884        0.425787       0.433283\n",
       "1        0.00010        0.419884        0.425787       0.433283\n",
       "2        0.00100        0.519115        0.518741       0.520240\n",
       "3        0.01000        0.763400        0.760120       0.750375\n",
       "4        0.10000        0.804254        0.798351       0.788606\n",
       "5        1.00000        0.921196        0.881559       0.875562\n",
       "6       10.00000        0.974232        0.884558       0.877811\n",
       "7      100.00000        0.995596        0.869565       0.850075\n",
       "8     1000.00000        0.998126        0.847076       0.830585\n",
       "9    10000.00000        0.998220        0.835832       0.820840\n",
       "10  100000.00000        0.998220        0.835832       0.819340"
      ]
     },
     "execution_count": 28,
     "metadata": {},
     "output_type": "execute_result"
    }
   ],
   "source": [
    "result_pd"
   ]
  },
  {
   "cell_type": "code",
   "execution_count": 29,
   "metadata": {},
   "outputs": [
    {
     "data": {
      "image/png": "[encoded data removed]",
      "text/plain": [
       "<Figure size 432x288 with 1 Axes>"
      ]
     },
     "metadata": {
      "needs_background": "light"
     },
     "output_type": "display_data"
    }
   ],
   "source": [
    "import matplotlib.pyplot as plt\n",
    "plt.plot(result_pd['c'], result_pd['train_accuracy'], label='train')\n",
    "plt.plot(result_pd['c'], result_pd['valid_accuracy'], label='valid')\n",
    "plt.plot(result_pd['c'], result_pd['test_accuracy'], label='test')\n",
    "plt.ylim(0, 1.1)\n",
    "plt.xscale('log')\n",
    "plt.xlabel('c')\n",
    "plt.legend()\n",
    "plt.show()"
   ]
  },
  {
   "cell_type": "markdown",
   "metadata": {},
   "source": [
    "## 59. ハイパーパラメータの探索"
   ]
  },
  {
   "cell_type": "markdown",
   "metadata": {},
   "source": [
    "学習アルゴリズムや学習パラメータを変えながら，カテゴリ分類モデルを学習せよ．検証データ上の正解率が最も高くなる学習アルゴリズム・パラメータを求めよ．また，その学習アルゴリズム・パラメータを用いたときの評価データ上の正解率を求めよ．"
   ]
  },
  {
   "cell_type": "code",
   "execution_count": 30,
   "metadata": {},
   "outputs": [],
   "source": [
    "import optuna"
   ]
  },
  {
   "cell_type": "code",
   "execution_count": 31,
   "metadata": {},
   "outputs": [],
   "source": [
    "def objective_lg(trial):\n",
    "    l1_ratio = trial.suggest_uniform('l1_ratio', 0, 1)\n",
    "    c = trial.suggest_loguniform('c', 1e-4, 1e4)\n",
    "    \n",
    "    lg = LogisticRegression(\n",
    "        random_state=123, \n",
    "        penalty='elasticnet',\n",
    "        solver='saga',\n",
    "        l1_ratio=l1_ratio,\n",
    "        C=c\n",
    "    )\n",
    "    lg.fit(x_train, y_train)\n",
    "    valid_accuracy = accuracy_score(y_valid, lg.predict(x_valid))\n",
    "    \n",
    "    return valid_accuracy"
   ]
  },
  {
   "cell_type": "code",
   "execution_count": 33,
   "metadata": {},
   "outputs": [
    {
     "name": "stderr",
     "output_type": "stream",
     "text": [
      "/Users/uchi_k/.pyenv/versions/anaconda3-5.3.1/lib/python3.7/site-packages/sklearn/utils/validation.py:72: DataConversionWarning: A column-vector y was passed when a 1d array was expected. Please change the shape of y to (n_samples, ), for example using ravel().\n",
      "  return f(**kwargs)\n",
      "[I 2020-08-12 17:54:48,193] Trial 0 finished with value: 0.8845577211394303 and parameters: {'l1_ratio': 0.4588873943813926, 'c': 7.356428097287914}. Best is trial 0 with value: 0.8845577211394303.\n",
      "/Users/uchi_k/.pyenv/versions/anaconda3-5.3.1/lib/python3.7/site-packages/sklearn/utils/validation.py:72: DataConversionWarning: A column-vector y was passed when a 1d array was expected. Please change the shape of y to (n_samples, ), for example using ravel().\n",
      "  return f(**kwargs)\n",
      "[I 2020-08-12 17:56:12,804] Trial 1 finished with value: 0.8860569715142429 and parameters: {'l1_ratio': 0.7749612478164204, 'c': 2.741464933879578}. Best is trial 1 with value: 0.8860569715142429.\n",
      "/Users/uchi_k/.pyenv/versions/anaconda3-5.3.1/lib/python3.7/site-packages/sklearn/utils/validation.py:72: DataConversionWarning: A column-vector y was passed when a 1d array was expected. Please change the shape of y to (n_samples, ), for example using ravel().\n",
      "  return f(**kwargs)\n",
      "/Users/uchi_k/.pyenv/versions/anaconda3-5.3.1/lib/python3.7/site-packages/sklearn/linear_model/_sag.py:330: ConvergenceWarning: The max_iter was reached which means the coef_ did not converge\n",
      "  \"the coef_ did not converge\", ConvergenceWarning)\n",
      "[I 2020-08-12 17:59:07,772] Trial 2 finished with value: 0.8643178410794603 and parameters: {'l1_ratio': 0.06458805793210842, 'c': 591.5714577336881}. Best is trial 1 with value: 0.8860569715142429.\n",
      "/Users/uchi_k/.pyenv/versions/anaconda3-5.3.1/lib/python3.7/site-packages/sklearn/utils/validation.py:72: DataConversionWarning: A column-vector y was passed when a 1d array was expected. Please change the shape of y to (n_samples, ), for example using ravel().\n",
      "  return f(**kwargs)\n",
      "[I 2020-08-12 18:00:26,585] Trial 3 finished with value: 0.8665667166416792 and parameters: {'l1_ratio': 0.35348580000865726, 'c': 0.5088524305034677}. Best is trial 1 with value: 0.8860569715142429.\n",
      "/Users/uchi_k/.pyenv/versions/anaconda3-5.3.1/lib/python3.7/site-packages/sklearn/utils/validation.py:72: DataConversionWarning: A column-vector y was passed when a 1d array was expected. Please change the shape of y to (n_samples, ), for example using ravel().\n",
      "  return f(**kwargs)\n",
      "/Users/uchi_k/.pyenv/versions/anaconda3-5.3.1/lib/python3.7/site-packages/sklearn/linear_model/_sag.py:330: ConvergenceWarning: The max_iter was reached which means the coef_ did not converge\n",
      "  \"the coef_ did not converge\", ConvergenceWarning)\n",
      "[I 2020-08-12 18:02:25,070] Trial 4 finished with value: 0.863568215892054 and parameters: {'l1_ratio': 0.7450816550063823, 'c': 776.4376669501274}. Best is trial 1 with value: 0.8860569715142429.\n",
      "/Users/uchi_k/.pyenv/versions/anaconda3-5.3.1/lib/python3.7/site-packages/sklearn/utils/validation.py:72: DataConversionWarning: A column-vector y was passed when a 1d array was expected. Please change the shape of y to (n_samples, ), for example using ravel().\n",
      "  return f(**kwargs)\n",
      "[I 2020-08-12 18:02:27,961] Trial 5 finished with value: 0.4257871064467766 and parameters: {'l1_ratio': 0.5917139382533907, 'c': 0.0006448172425416335}. Best is trial 1 with value: 0.8860569715142429.\n",
      "/Users/uchi_k/.pyenv/versions/anaconda3-5.3.1/lib/python3.7/site-packages/sklearn/utils/validation.py:72: DataConversionWarning: A column-vector y was passed when a 1d array was expected. Please change the shape of y to (n_samples, ), for example using ravel().\n",
      "  return f(**kwargs)\n",
      "[I 2020-08-12 18:02:48,334] Trial 6 finished with value: 0.4512743628185907 and parameters: {'l1_ratio': 0.3778506876970873, 'c': 0.006859473075126818}. Best is trial 1 with value: 0.8860569715142429.\n",
      "/Users/uchi_k/.pyenv/versions/anaconda3-5.3.1/lib/python3.7/site-packages/sklearn/utils/validation.py:72: DataConversionWarning: A column-vector y was passed when a 1d array was expected. Please change the shape of y to (n_samples, ), for example using ravel().\n",
      "  return f(**kwargs)\n",
      "/Users/uchi_k/.pyenv/versions/anaconda3-5.3.1/lib/python3.7/site-packages/sklearn/linear_model/_sag.py:330: ConvergenceWarning: The max_iter was reached which means the coef_ did not converge\n",
      "  \"the coef_ did not converge\", ConvergenceWarning)\n",
      "[I 2020-08-12 18:06:32,272] Trial 7 finished with value: 0.8650674662668666 and parameters: {'l1_ratio': 0.29815149515293693, 'c': 542.330847025353}. Best is trial 1 with value: 0.8860569715142429.\n",
      "/Users/uchi_k/.pyenv/versions/anaconda3-5.3.1/lib/python3.7/site-packages/sklearn/utils/validation.py:72: DataConversionWarning: A column-vector y was passed when a 1d array was expected. Please change the shape of y to (n_samples, ), for example using ravel().\n",
      "  return f(**kwargs)\n",
      "[I 2020-08-12 18:06:59,125] Trial 8 finished with value: 0.7406296851574213 and parameters: {'l1_ratio': 0.8323388197727911, 'c': 0.12632412233148993}. Best is trial 1 with value: 0.8860569715142429.\n",
      "/Users/uchi_k/.pyenv/versions/anaconda3-5.3.1/lib/python3.7/site-packages/sklearn/utils/validation.py:72: DataConversionWarning: A column-vector y was passed when a 1d array was expected. Please change the shape of y to (n_samples, ), for example using ravel().\n",
      "  return f(**kwargs)\n",
      "/Users/uchi_k/.pyenv/versions/anaconda3-5.3.1/lib/python3.7/site-packages/sklearn/linear_model/_sag.py:330: ConvergenceWarning: The max_iter was reached which means the coef_ did not converge\n",
      "  \"the coef_ did not converge\", ConvergenceWarning)\n",
      "[I 2020-08-12 18:10:42,566] Trial 9 finished with value: 0.8793103448275862 and parameters: {'l1_ratio': 0.9874879343364378, 'c': 7.967272261112793}. Best is trial 1 with value: 0.8860569715142429.\n"
     ]
    }
   ],
   "source": [
    "study = optuna.create_study(direction='maximize')\n",
    "study.optimize(objective_lg, n_trials=10)"
   ]
  },
  {
   "cell_type": "markdown",
   "metadata": {},
   "source": [
    "[I 2020-08-12 09:33:23,826] Trial 109 finished with value: 0.8928035982008995 and parameters: {'l1_ratio': 0.32409813572255125, 'c': 2.3493945440724393}. Best is trial 109 with value: 0.8928035982008995."
   ]
  },
  {
   "cell_type": "code",
   "execution_count": 34,
   "metadata": {},
   "outputs": [
    {
     "name": "stdout",
     "output_type": "stream",
     "text": [
      "0.8860569715142429\n",
      "l1_ratio 0.7749612478164204\n",
      "c 2.741464933879578\n"
     ]
    }
   ],
   "source": [
    "trial = study.best_trial\n",
    "print(trial.value)\n",
    "for key, value in trial.params.items():\n",
    "    print('{0} {1}'.format(key, value))"
   ]
  },
  {
   "cell_type": "code",
   "execution_count": 37,
   "metadata": {},
   "outputs": [
    {
     "name": "stderr",
     "output_type": "stream",
     "text": [
      "/Users/uchi_k/.pyenv/versions/anaconda3-5.3.1/lib/python3.7/site-packages/sklearn/utils/validation.py:72: DataConversionWarning: A column-vector y was passed when a 1d array was expected. Please change the shape of y to (n_samples, ), for example using ravel().\n",
      "  return f(**kwargs)\n"
     ]
    },
    {
     "name": "stdout",
     "output_type": "stream",
     "text": [
      "0.883808095952024\n"
     ]
    }
   ],
   "source": [
    "lg = LogisticRegression(\n",
    "    random_state=123,\n",
    "    l1_ratio=trial.params['l1_ratio'],\n",
    "    C=trial.params['c'],\n",
    "    penalty='elasticnet',\n",
    "    solver='saga'\n",
    ")\n",
    "lg.fit(x_train, y_train)\n",
    "\n",
    "test_accuracy = accuracy_score(y_test, lg.predict(x_test))\n",
    "print(test_accuracy)"
   ]
  },
  {
   "cell_type": "code",
   "execution_count": null,
   "metadata": {},
   "outputs": [],
   "source": []
  }
 ],
 "metadata": {
  "kernelspec": {
   "display_name": "Python 3",
   "language": "python",
   "name": "python3"
  },
  "language_info": {
   "codemirror_mode": {
    "name": "ipython",
    "version": 3
   },
   "file_extension": ".py",
   "mimetype": "text/x-python",
   "name": "python",
   "nbconvert_exporter": "python",
   "pygments_lexer": "ipython3",
   "version": "3.7.2"
  }
 },
 "nbformat": 4,
 "nbformat_minor": 2
}
